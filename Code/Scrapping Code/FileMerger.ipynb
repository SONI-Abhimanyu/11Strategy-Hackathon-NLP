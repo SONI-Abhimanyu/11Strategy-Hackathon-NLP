{
 "cells": [
  {
   "cell_type": "code",
   "execution_count": 29,
   "id": "c9b5c672",
   "metadata": {},
   "outputs": [],
   "source": [
    "import pandas as pd"
   ]
  },
  {
   "cell_type": "code",
   "execution_count": 30,
   "id": "4be4fc9d",
   "metadata": {},
   "outputs": [],
   "source": [
    "import os\n",
    "all_files = []\n",
    "directory = os.path.join(\"D:\\\\\",\"Vidhi\\Hackathon\")\n",
    "for root,dirs,files in os.walk(directory):\n",
    "    for file in files:\n",
    "       if file.endswith(\".csv\"):\n",
    "           all_files.append(file)\n",
    "           "
   ]
  },
  {
   "cell_type": "code",
   "execution_count": 31,
   "id": "de807a08",
   "metadata": {},
   "outputs": [
    {
     "name": "stdout",
     "output_type": "stream",
     "text": [
      "['ab-aviation.csv', 'adria-airways.csv', 'aegean-airlines.csv', 'aer-lingus.csv', 'aerocaribbean.csv', 'aeroflot-russian-airlines.csv', 'aerolineas-argentinas.csv', 'aerosur.csv', 'africa-world-airlines.csv', 'afriqiyah-airways.csv', 'aigle-azur.csv', 'air-antilles.csv', 'air-arabia.csv', 'air-astana.csv', 'air-austral.csv', 'air-bagan.csv', 'air-berlin.csv', 'air-botswana.csv', 'air-burkina.csv', 'air-busan.csv', 'air-cairo.csv', 'air-canada-rouge.csv', 'air-canada.csv', 'ba-cityflyer.csv', 'badr-airlines.csv', 'bahamasair.csv', 'bamboo-airways.csv', 'bangkok-airways.csv', 'bassaka-air.csv', 'batik-air.csv', 'camair-co.csv', 'cambodia-angkor-airlines.csv', 'cambodia-bayon-airlines.csv', 'canadian-north.csv', 'canaryfly.csv', 'cape-air.csv', 'caribbean-airlines.csv', 'Customer Reviews - SKYTRAX.csv', 'eastarjet.csv', 'eastern-airways.csv', 'easyfly.csv', 'easyjet.csv', 'edelweiss-air.csv', 'egyptair.csv', 'fastjet.csv', 'finnair.csv', 'firefly.csv', 'flair-airlines.csv', 'fly540-com.csv', 'flyadeal.csv', 'flyarystan.csv', 'flybe.csv', 'flydubai.csv', 'flynas.csv', 'flyone.csv', 'flysafair.csv', 'garuda-indonesia.csv', 'georgian-airways.csv', 'germania-airline.csv', 'germanwings.csv', 'go-first.csv', 'goair.csv', 'gol.csv', 'grand-cru-airlines.csv', 'gulf-air.csv', 'hainan-airlines.csv', 'hawaiian-airlines.csv', 'helvetic.csv', 'henan-airlines.csv', 'hi-fly.csv', 'himalaya-airlines.csv', 'hong-kong-airlines.csv', 'hong-kong.csv', 'hop.csv', 'iberia-express.csv', 'iberia.csv', 'icelandair.csv', 'indigo-airlines.csv', 'insel-air.csv', 'interjet.csv', 'intersky.csv', 'iraqi-airways.csv', 'island.csv', 'israir-airlines.csv', 'ita-airways.csv', 'japan-airlines.csv', 'jazeera-airways.csv', 'jazz.csv', 'jc-international-airlines.csv', 'jeju-air.csv', 'jet-airways.csv', 'jet2-com.csv', 'kam-air.csv', 'kan-air.csv', 'kd-air.csv', 'klm-royal-dutch-airlines.csv', 'korean-air.csv', 'mack-air.csv', 'madagasikara-airways.csv', 'mahan-air.csv', 'malawian-airlines.csv', 'malaysia-airlines.csv', 'maldivian.csv', 'malindo-air.csv', 'malm-aviation.csv', 'mandarin-airlines.csv', 'mango.csv', 'mann-yadanarpon-airlines.csv', 'manta-air.csv', 'martinair.csv', 'maya-island-air.csv', 'mega-maldives-airlines.csv', 'meridiana.csv', 'miat-mongolian.csv', 'mihin-lanka.csv', 'moldavian-airlines.csv', 'montenegro-airlines.csv', 'motor-sich-airlines.csv', 'myanmar-airways.csv', 'myanmar-national-airlines.csv', 'pacific-airlines.csv', 'pal-express.csv', 'pan-pacific-airlines.csv', 'passaredo-linhas-aereas.csv', 'pawa-dominicana.csv', 'peach-aviation.csv', 'pegasus-airlines.csv', 'penair.csv', 'peruvian-airlines.csv', 'petroleum-air-services.csv', 'philippine-airlines.csv', 'phuket-air.csv', 'pia-pakistan-international-airlines.csv', 'play.csv', 's7-siberia-airlines.csv', 'sa-express.csv', 'safarilink.csv', 'safi-airways.csv', 'salam-air.csv', 'sansa-airlines.csv', 'santa-barbara.csv', 'sas-scandinavian-airlines.csv', 'sata-air-azores.csv', 'satena.csv', 'saudi-arabian-airlines.csv', 'scat-airlines.csv', 'scoot.csv', 'seaborne-airlines.csv', 'Seat Reviews - SKYTRAX.csv', 'shaheen-air.csv', 'shanghai-airlines.csv', 'shenzhen-airlines.csv', 'sichuan-airlines.csv', 'silkair.csv', 'silver-airways.csv', 'singapore-airlines.csv', 'sky-airline.csv', 'sky-express-airlines.csv', 'skybus.csv', 'skymark-airlines.csv', 'skytrans-airlines.csv', 'skyup-airlines.csv', 'skywest-airlines.csv', 'taag-angola-airlines.csv', 'taca-regional.csv', 'taca.csv', 'tailwind-airlines.csv', 'tajikistan-airlines.csv', 'tam-airlines.csv', 'tame-linea-aerea-del-ecuador.csv', 'tame.csv', 'tap-portugal.csv', 'tar-aerolineas.csv', 'tarom-romanian-airlines.csv', 'thai-airasia.csv', 'thai-airways.csv', 'thai-lion-air.csv', 'thai-smile-airways.csv', 'thomas-cook-airlines-scandinavia.csv', 'thomson-airways.csv', 'tianjin-airlines.csv', 'tibet-airlines.csv', 'tigerair-taiwan.csv', 'tigerair.csv', 'titan-airways.csv', 'transaero-airlines.csv', 'transasia-airways.csv', 'transavia.csv', 'trigana-air.csv', 'tropic-air-belize.csv', 'tui-airways.csv', 'tuifly-nordic.csv', 'tuifly.csv', 'tunisair.csv', 'turkish-airlines.csv', 'turkmenistan-airlines.csv', 'tway-air.csv', 'v-air.csv', 'v.csv', 'vanilla-air.csv', 'viaair.csv', 'vietjetair.csv', 'vietnam-airlines.csv', 'virgin-atlantic-airways.csv', 'virgin-australia.csv', 'vistara.csv', 'viva-air.csv', 'vivacolombia.csv', 'vlm-airlines.csv', 'volaris.csv', 'volotea.csv', 'wamos-air.csv', 'westjet.csv', 'wideroe.csv', 'wingo.csv', 'wings-air.csv', 'world2fly.csv', 'wow-air.csv']\n"
     ]
    }
   ],
   "source": [
    "print(all_files)"
   ]
  },
  {
   "cell_type": "code",
   "execution_count": 33,
   "id": "dc23e492",
   "metadata": {},
   "outputs": [],
   "source": [
    "final_dataframe = pd.DataFrame()\n",
    "for eachfile in all_files:\n",
    "    df = pd.read_csv(\"./\"+eachfile)\n",
    "    df['airline'] = eachfile.replace(\".csv\", \"\")\n",
    "    if(final_dataframe.shape[0] == 0):\n",
    "        final_dataframe = df\n",
    "    else:\n",
    "        final_dataframe = pd.concat([final_dataframe, df])\n",
    "        "
   ]
  },
  {
   "cell_type": "code",
   "execution_count": 35,
   "id": "ffa8c16d",
   "metadata": {},
   "outputs": [
    {
     "data": {
      "text/plain": [
       "218"
      ]
     },
     "execution_count": 35,
     "metadata": {},
     "output_type": "execute_result"
    }
   ],
   "source": [
    "len(all_files)"
   ]
  },
  {
   "cell_type": "code",
   "execution_count": 36,
   "id": "80256b39",
   "metadata": {},
   "outputs": [
    {
     "data": {
      "text/plain": [
       "(17641, 26)"
      ]
     },
     "execution_count": 36,
     "metadata": {},
     "output_type": "execute_result"
    }
   ],
   "source": [
    "final_dataframe.shape"
   ]
  },
  {
   "cell_type": "code",
   "execution_count": 37,
   "id": "1259bdc8",
   "metadata": {},
   "outputs": [],
   "source": [
    "final_dataframe.to_csv(\"./FINALLY.csv\")"
   ]
  }
 ],
 "metadata": {
  "kernelspec": {
   "display_name": "Python 3 (ipykernel)",
   "language": "python",
   "name": "python3"
  },
  "language_info": {
   "codemirror_mode": {
    "name": "ipython",
    "version": 3
   },
   "file_extension": ".py",
   "mimetype": "text/x-python",
   "name": "python",
   "nbconvert_exporter": "python",
   "pygments_lexer": "ipython3",
   "version": "3.9.7"
  }
 },
 "nbformat": 4,
 "nbformat_minor": 5
}
