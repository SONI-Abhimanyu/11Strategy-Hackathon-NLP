{
  "nbformat": 4,
  "nbformat_minor": 0,
  "metadata": {
    "colab": {
      "name": "220216_TFIDF_Classifiers_Binary_Baseline_KM_v1.ipynb",
      "provenance": [],
      "collapsed_sections": []
    },
    "kernelspec": {
      "name": "python3",
      "display_name": "Python 3"
    },
    "language_info": {
      "name": "python"
    }
  },
  "cells": [
    {
      "cell_type": "markdown",
      "source": [
        "# Loading Data"
      ],
      "metadata": {
        "id": "s0PJNzS6VXwI"
      }
    },
    {
      "cell_type": "code",
      "execution_count": 73,
      "metadata": {
        "colab": {
          "base_uri": "https://localhost:8080/"
        },
        "id": "sYb38HdVOjnW",
        "outputId": "33563948-f079-4315-ddb7-e54ed3d7ecfe"
      },
      "outputs": [
        {
          "output_type": "stream",
          "name": "stdout",
          "text": [
            "Drive already mounted at /content/drive; to attempt to forcibly remount, call drive.mount(\"/content/drive\", force_remount=True).\n"
          ]
        }
      ],
      "source": [
        "#Connect to google drive data\n",
        "from google.colab import drive\n",
        "drive.mount('/content/drive')"
      ]
    },
    {
      "cell_type": "code",
      "source": [
        "import pandas as pd\n",
        "import numpy as np\n",
        "import nltk\n",
        "import re"
      ],
      "metadata": {
        "id": "OYtjtDt4b6eD"
      },
      "execution_count": 74,
      "outputs": []
    },
    {
      "cell_type": "code",
      "source": [
        "df = pd.read_csv('/content/drive/MyDrive/Hackathon M2/Our Data/Customer Reviews - SKYTRAX.csv')"
      ],
      "metadata": {
        "id": "VorKW2Z0SB2r"
      },
      "execution_count": 75,
      "outputs": []
    },
    {
      "cell_type": "code",
      "source": [
        "df.head(5)"
      ],
      "metadata": {
        "colab": {
          "base_uri": "https://localhost:8080/",
          "height": 565
        },
        "id": "lb4z0ghMSNxG",
        "outputId": "4ff71fec-3b0e-4e03-9e24-de40cec55609"
      },
      "execution_count": 76,
      "outputs": [
        {
          "output_type": "execute_result",
          "data": {
            "text/html": [
              "\n",
              "  <div id=\"df-b81a4ab4-ed4c-42fe-a3e9-2ee61d848f59\">\n",
              "    <div class=\"colab-df-container\">\n",
              "      <div>\n",
              "<style scoped>\n",
              "    .dataframe tbody tr th:only-of-type {\n",
              "        vertical-align: middle;\n",
              "    }\n",
              "\n",
              "    .dataframe tbody tr th {\n",
              "        vertical-align: top;\n",
              "    }\n",
              "\n",
              "    .dataframe thead th {\n",
              "        text-align: right;\n",
              "    }\n",
              "</style>\n",
              "<table border=\"1\" class=\"dataframe\">\n",
              "  <thead>\n",
              "    <tr style=\"text-align: right;\">\n",
              "      <th></th>\n",
              "      <th>score</th>\n",
              "      <th>title</th>\n",
              "      <th>user_country</th>\n",
              "      <th>user_name</th>\n",
              "      <th>review_date</th>\n",
              "      <th>is_verified</th>\n",
              "      <th>review_body</th>\n",
              "      <th>airline</th>\n",
              "    </tr>\n",
              "  </thead>\n",
              "  <tbody>\n",
              "    <tr>\n",
              "      <th>0</th>\n",
              "      <td>7.0</td>\n",
              "      <td>\"my trip was pretty good.\"</td>\n",
              "      <td>United States</td>\n",
              "      <td>N Palustre</td>\n",
              "      <td>9th February 2022</td>\n",
              "      <td>0</td>\n",
              "      <td>My flight from Dulles to Paris was great. My f...</td>\n",
              "      <td>Air France</td>\n",
              "    </tr>\n",
              "    <tr>\n",
              "      <th>1</th>\n",
              "      <td>1.0</td>\n",
              "      <td>\"my baggage didn't make it\"</td>\n",
              "      <td>Lebanon</td>\n",
              "      <td>Nour El Khoury</td>\n",
              "      <td>27th January 2022</td>\n",
              "      <td>1</td>\n",
              "      <td>I went for 2 months to Nice, when I arrived i...</td>\n",
              "      <td>Air France</td>\n",
              "    </tr>\n",
              "    <tr>\n",
              "      <th>2</th>\n",
              "      <td>3.0</td>\n",
              "      <td>Air France customer review</td>\n",
              "      <td>United States</td>\n",
              "      <td>Daniel Rabourn</td>\n",
              "      <td>26th January 2022</td>\n",
              "      <td>1</td>\n",
              "      <td>Yesterday Jan 25, we flew Colombo, Sri Lanka t...</td>\n",
              "      <td>Air France</td>\n",
              "    </tr>\n",
              "    <tr>\n",
              "      <th>3</th>\n",
              "      <td>8.0</td>\n",
              "      <td>\"great alternative to fly across the Atlantic\"</td>\n",
              "      <td>United Kingdom</td>\n",
              "      <td>D Garlin</td>\n",
              "      <td>19th January 2022</td>\n",
              "      <td>1</td>\n",
              "      <td>First medium-haul experience with Air France....</td>\n",
              "      <td>Air France</td>\n",
              "    </tr>\n",
              "    <tr>\n",
              "      <th>4</th>\n",
              "      <td>8.0</td>\n",
              "      <td>\"A pleasurable experience!\"</td>\n",
              "      <td>United States</td>\n",
              "      <td>S Gillemo</td>\n",
              "      <td>4th January 2022</td>\n",
              "      <td>1</td>\n",
              "      <td>BOD-CDG-ATL: Was having some major issue with...</td>\n",
              "      <td>Air France</td>\n",
              "    </tr>\n",
              "  </tbody>\n",
              "</table>\n",
              "</div>\n",
              "      <button class=\"colab-df-convert\" onclick=\"convertToInteractive('df-b81a4ab4-ed4c-42fe-a3e9-2ee61d848f59')\"\n",
              "              title=\"Convert this dataframe to an interactive table.\"\n",
              "              style=\"display:none;\">\n",
              "        \n",
              "  <svg xmlns=\"http://www.w3.org/2000/svg\" height=\"24px\"viewBox=\"0 0 24 24\"\n",
              "       width=\"24px\">\n",
              "    <path d=\"M0 0h24v24H0V0z\" fill=\"none\"/>\n",
              "    <path d=\"M18.56 5.44l.94 2.06.94-2.06 2.06-.94-2.06-.94-.94-2.06-.94 2.06-2.06.94zm-11 1L8.5 8.5l.94-2.06 2.06-.94-2.06-.94L8.5 2.5l-.94 2.06-2.06.94zm10 10l.94 2.06.94-2.06 2.06-.94-2.06-.94-.94-2.06-.94 2.06-2.06.94z\"/><path d=\"M17.41 7.96l-1.37-1.37c-.4-.4-.92-.59-1.43-.59-.52 0-1.04.2-1.43.59L10.3 9.45l-7.72 7.72c-.78.78-.78 2.05 0 2.83L4 21.41c.39.39.9.59 1.41.59.51 0 1.02-.2 1.41-.59l7.78-7.78 2.81-2.81c.8-.78.8-2.07 0-2.86zM5.41 20L4 18.59l7.72-7.72 1.47 1.35L5.41 20z\"/>\n",
              "  </svg>\n",
              "      </button>\n",
              "      \n",
              "  <style>\n",
              "    .colab-df-container {\n",
              "      display:flex;\n",
              "      flex-wrap:wrap;\n",
              "      gap: 12px;\n",
              "    }\n",
              "\n",
              "    .colab-df-convert {\n",
              "      background-color: #E8F0FE;\n",
              "      border: none;\n",
              "      border-radius: 50%;\n",
              "      cursor: pointer;\n",
              "      display: none;\n",
              "      fill: #1967D2;\n",
              "      height: 32px;\n",
              "      padding: 0 0 0 0;\n",
              "      width: 32px;\n",
              "    }\n",
              "\n",
              "    .colab-df-convert:hover {\n",
              "      background-color: #E2EBFA;\n",
              "      box-shadow: 0px 1px 2px rgba(60, 64, 67, 0.3), 0px 1px 3px 1px rgba(60, 64, 67, 0.15);\n",
              "      fill: #174EA6;\n",
              "    }\n",
              "\n",
              "    [theme=dark] .colab-df-convert {\n",
              "      background-color: #3B4455;\n",
              "      fill: #D2E3FC;\n",
              "    }\n",
              "\n",
              "    [theme=dark] .colab-df-convert:hover {\n",
              "      background-color: #434B5C;\n",
              "      box-shadow: 0px 1px 3px 1px rgba(0, 0, 0, 0.15);\n",
              "      filter: drop-shadow(0px 1px 2px rgba(0, 0, 0, 0.3));\n",
              "      fill: #FFFFFF;\n",
              "    }\n",
              "  </style>\n",
              "\n",
              "      <script>\n",
              "        const buttonEl =\n",
              "          document.querySelector('#df-b81a4ab4-ed4c-42fe-a3e9-2ee61d848f59 button.colab-df-convert');\n",
              "        buttonEl.style.display =\n",
              "          google.colab.kernel.accessAllowed ? 'block' : 'none';\n",
              "\n",
              "        async function convertToInteractive(key) {\n",
              "          const element = document.querySelector('#df-b81a4ab4-ed4c-42fe-a3e9-2ee61d848f59');\n",
              "          const dataTable =\n",
              "            await google.colab.kernel.invokeFunction('convertToInteractive',\n",
              "                                                     [key], {});\n",
              "          if (!dataTable) return;\n",
              "\n",
              "          const docLinkHtml = 'Like what you see? Visit the ' +\n",
              "            '<a target=\"_blank\" href=https://colab.research.google.com/notebooks/data_table.ipynb>data table notebook</a>'\n",
              "            + ' to learn more about interactive tables.';\n",
              "          element.innerHTML = '';\n",
              "          dataTable['output_type'] = 'display_data';\n",
              "          await google.colab.output.renderOutput(dataTable, element);\n",
              "          const docLink = document.createElement('div');\n",
              "          docLink.innerHTML = docLinkHtml;\n",
              "          element.appendChild(docLink);\n",
              "        }\n",
              "      </script>\n",
              "    </div>\n",
              "  </div>\n",
              "  "
            ],
            "text/plain": [
              "   score  ...      airline\n",
              "0    7.0  ...  Air France \n",
              "1    1.0  ...  Air France \n",
              "2    3.0  ...  Air France \n",
              "3    8.0  ...  Air France \n",
              "4    8.0  ...  Air France \n",
              "\n",
              "[5 rows x 8 columns]"
            ]
          },
          "metadata": {},
          "execution_count": 76
        }
      ]
    },
    {
      "cell_type": "code",
      "source": [
        "# check the distribution\n",
        "df['score'].value_counts()"
      ],
      "metadata": {
        "colab": {
          "base_uri": "https://localhost:8080/"
        },
        "id": "PIoVRK-kVFLl",
        "outputId": "58adc13c-edfd-40ab-b22c-d94effe78ae0"
      },
      "execution_count": 77,
      "outputs": [
        {
          "output_type": "execute_result",
          "data": {
            "text/plain": [
              "1.0     2172\n",
              "10.0    1390\n",
              "9.0     1032\n",
              "8.0      809\n",
              "2.0      710\n",
              "3.0      529\n",
              "7.0      526\n",
              "5.0      447\n",
              "4.0      389\n",
              "6.0      358\n",
              "Name: score, dtype: int64"
            ]
          },
          "metadata": {},
          "execution_count": 77
        }
      ]
    },
    {
      "cell_type": "markdown",
      "source": [
        "# Pre-Processing"
      ],
      "metadata": {
        "id": "y9IqeoTKXP6J"
      }
    },
    {
      "cell_type": "markdown",
      "source": [
        "## Full Reviews"
      ],
      "metadata": {
        "id": "JgFSkxJ6ZTTR"
      }
    },
    {
      "cell_type": "code",
      "source": [
        "# add title to review_body\n",
        "df['full_review'] = df['title'] + df['review_body']"
      ],
      "metadata": {
        "id": "eUC3QXFyWUts"
      },
      "execution_count": 78,
      "outputs": []
    },
    {
      "cell_type": "code",
      "source": [
        "# new df with only relevant inputs for TF IDF + Classifier (might experiment with other variables later)\n",
        "df_slim = df[['score', 'full_review']]"
      ],
      "metadata": {
        "id": "1KJTLkTVWi92"
      },
      "execution_count": 79,
      "outputs": []
    },
    {
      "cell_type": "code",
      "source": [
        "df_slim.head(5)"
      ],
      "metadata": {
        "colab": {
          "base_uri": "https://localhost:8080/",
          "height": 206
        },
        "id": "ypCOCHTRXILf",
        "outputId": "9817e735-ec0b-4a95-cfe9-4e6ceabcea97"
      },
      "execution_count": 80,
      "outputs": [
        {
          "output_type": "execute_result",
          "data": {
            "text/html": [
              "\n",
              "  <div id=\"df-4e7b7f3f-cdb9-45a9-81ec-bed3b980223c\">\n",
              "    <div class=\"colab-df-container\">\n",
              "      <div>\n",
              "<style scoped>\n",
              "    .dataframe tbody tr th:only-of-type {\n",
              "        vertical-align: middle;\n",
              "    }\n",
              "\n",
              "    .dataframe tbody tr th {\n",
              "        vertical-align: top;\n",
              "    }\n",
              "\n",
              "    .dataframe thead th {\n",
              "        text-align: right;\n",
              "    }\n",
              "</style>\n",
              "<table border=\"1\" class=\"dataframe\">\n",
              "  <thead>\n",
              "    <tr style=\"text-align: right;\">\n",
              "      <th></th>\n",
              "      <th>score</th>\n",
              "      <th>full_review</th>\n",
              "    </tr>\n",
              "  </thead>\n",
              "  <tbody>\n",
              "    <tr>\n",
              "      <th>0</th>\n",
              "      <td>7.0</td>\n",
              "      <td>\"my trip was pretty good.\"My flight from Dulle...</td>\n",
              "    </tr>\n",
              "    <tr>\n",
              "      <th>1</th>\n",
              "      <td>1.0</td>\n",
              "      <td>\"my baggage didn't make it\" I went for 2 month...</td>\n",
              "    </tr>\n",
              "    <tr>\n",
              "      <th>2</th>\n",
              "      <td>3.0</td>\n",
              "      <td>Air France customer reviewYesterday Jan 25, we...</td>\n",
              "    </tr>\n",
              "    <tr>\n",
              "      <th>3</th>\n",
              "      <td>8.0</td>\n",
              "      <td>\"great alternative to fly across the Atlantic\"...</td>\n",
              "    </tr>\n",
              "    <tr>\n",
              "      <th>4</th>\n",
              "      <td>8.0</td>\n",
              "      <td>\"A pleasurable experience!\" BOD-CDG-ATL: Was h...</td>\n",
              "    </tr>\n",
              "  </tbody>\n",
              "</table>\n",
              "</div>\n",
              "      <button class=\"colab-df-convert\" onclick=\"convertToInteractive('df-4e7b7f3f-cdb9-45a9-81ec-bed3b980223c')\"\n",
              "              title=\"Convert this dataframe to an interactive table.\"\n",
              "              style=\"display:none;\">\n",
              "        \n",
              "  <svg xmlns=\"http://www.w3.org/2000/svg\" height=\"24px\"viewBox=\"0 0 24 24\"\n",
              "       width=\"24px\">\n",
              "    <path d=\"M0 0h24v24H0V0z\" fill=\"none\"/>\n",
              "    <path d=\"M18.56 5.44l.94 2.06.94-2.06 2.06-.94-2.06-.94-.94-2.06-.94 2.06-2.06.94zm-11 1L8.5 8.5l.94-2.06 2.06-.94-2.06-.94L8.5 2.5l-.94 2.06-2.06.94zm10 10l.94 2.06.94-2.06 2.06-.94-2.06-.94-.94-2.06-.94 2.06-2.06.94z\"/><path d=\"M17.41 7.96l-1.37-1.37c-.4-.4-.92-.59-1.43-.59-.52 0-1.04.2-1.43.59L10.3 9.45l-7.72 7.72c-.78.78-.78 2.05 0 2.83L4 21.41c.39.39.9.59 1.41.59.51 0 1.02-.2 1.41-.59l7.78-7.78 2.81-2.81c.8-.78.8-2.07 0-2.86zM5.41 20L4 18.59l7.72-7.72 1.47 1.35L5.41 20z\"/>\n",
              "  </svg>\n",
              "      </button>\n",
              "      \n",
              "  <style>\n",
              "    .colab-df-container {\n",
              "      display:flex;\n",
              "      flex-wrap:wrap;\n",
              "      gap: 12px;\n",
              "    }\n",
              "\n",
              "    .colab-df-convert {\n",
              "      background-color: #E8F0FE;\n",
              "      border: none;\n",
              "      border-radius: 50%;\n",
              "      cursor: pointer;\n",
              "      display: none;\n",
              "      fill: #1967D2;\n",
              "      height: 32px;\n",
              "      padding: 0 0 0 0;\n",
              "      width: 32px;\n",
              "    }\n",
              "\n",
              "    .colab-df-convert:hover {\n",
              "      background-color: #E2EBFA;\n",
              "      box-shadow: 0px 1px 2px rgba(60, 64, 67, 0.3), 0px 1px 3px 1px rgba(60, 64, 67, 0.15);\n",
              "      fill: #174EA6;\n",
              "    }\n",
              "\n",
              "    [theme=dark] .colab-df-convert {\n",
              "      background-color: #3B4455;\n",
              "      fill: #D2E3FC;\n",
              "    }\n",
              "\n",
              "    [theme=dark] .colab-df-convert:hover {\n",
              "      background-color: #434B5C;\n",
              "      box-shadow: 0px 1px 3px 1px rgba(0, 0, 0, 0.15);\n",
              "      filter: drop-shadow(0px 1px 2px rgba(0, 0, 0, 0.3));\n",
              "      fill: #FFFFFF;\n",
              "    }\n",
              "  </style>\n",
              "\n",
              "      <script>\n",
              "        const buttonEl =\n",
              "          document.querySelector('#df-4e7b7f3f-cdb9-45a9-81ec-bed3b980223c button.colab-df-convert');\n",
              "        buttonEl.style.display =\n",
              "          google.colab.kernel.accessAllowed ? 'block' : 'none';\n",
              "\n",
              "        async function convertToInteractive(key) {\n",
              "          const element = document.querySelector('#df-4e7b7f3f-cdb9-45a9-81ec-bed3b980223c');\n",
              "          const dataTable =\n",
              "            await google.colab.kernel.invokeFunction('convertToInteractive',\n",
              "                                                     [key], {});\n",
              "          if (!dataTable) return;\n",
              "\n",
              "          const docLinkHtml = 'Like what you see? Visit the ' +\n",
              "            '<a target=\"_blank\" href=https://colab.research.google.com/notebooks/data_table.ipynb>data table notebook</a>'\n",
              "            + ' to learn more about interactive tables.';\n",
              "          element.innerHTML = '';\n",
              "          dataTable['output_type'] = 'display_data';\n",
              "          await google.colab.output.renderOutput(dataTable, element);\n",
              "          const docLink = document.createElement('div');\n",
              "          docLink.innerHTML = docLinkHtml;\n",
              "          element.appendChild(docLink);\n",
              "        }\n",
              "      </script>\n",
              "    </div>\n",
              "  </div>\n",
              "  "
            ],
            "text/plain": [
              "   score                                        full_review\n",
              "0    7.0  \"my trip was pretty good.\"My flight from Dulle...\n",
              "1    1.0  \"my baggage didn't make it\" I went for 2 month...\n",
              "2    3.0  Air France customer reviewYesterday Jan 25, we...\n",
              "3    8.0  \"great alternative to fly across the Atlantic\"...\n",
              "4    8.0  \"A pleasurable experience!\" BOD-CDG-ATL: Was h..."
            ]
          },
          "metadata": {},
          "execution_count": 80
        }
      ]
    },
    {
      "cell_type": "markdown",
      "source": [
        "## Labeling by score"
      ],
      "metadata": {
        "id": "FxCKSmS4ZWVR"
      }
    },
    {
      "cell_type": "code",
      "source": [
        "# even reviews with score of 5 seem bad\n",
        "df_slim[df_slim['score'] == 5]"
      ],
      "metadata": {
        "colab": {
          "base_uri": "https://localhost:8080/",
          "height": 423
        },
        "id": "3iq3ZLxbYtRB",
        "outputId": "750f838f-0a72-4065-e768-ac1e1e0ac40e"
      },
      "execution_count": 81,
      "outputs": [
        {
          "output_type": "execute_result",
          "data": {
            "text/html": [
              "\n",
              "  <div id=\"df-ffbae6cb-011e-4538-9c5d-5789b00b441b\">\n",
              "    <div class=\"colab-df-container\">\n",
              "      <div>\n",
              "<style scoped>\n",
              "    .dataframe tbody tr th:only-of-type {\n",
              "        vertical-align: middle;\n",
              "    }\n",
              "\n",
              "    .dataframe tbody tr th {\n",
              "        vertical-align: top;\n",
              "    }\n",
              "\n",
              "    .dataframe thead th {\n",
              "        text-align: right;\n",
              "    }\n",
              "</style>\n",
              "<table border=\"1\" class=\"dataframe\">\n",
              "  <thead>\n",
              "    <tr style=\"text-align: right;\">\n",
              "      <th></th>\n",
              "      <th>score</th>\n",
              "      <th>full_review</th>\n",
              "    </tr>\n",
              "  </thead>\n",
              "  <tbody>\n",
              "    <tr>\n",
              "      <th>14</th>\n",
              "      <td>5.0</td>\n",
              "      <td>\"All in all, a decent experience\" It was very ...</td>\n",
              "    </tr>\n",
              "    <tr>\n",
              "      <th>58</th>\n",
              "      <td>5.0</td>\n",
              "      <td>\"had the mask only on the chin\" Today as I boa...</td>\n",
              "    </tr>\n",
              "    <tr>\n",
              "      <th>87</th>\n",
              "      <td>5.0</td>\n",
              "      <td>\"My disappointment is with the food service\" F...</td>\n",
              "    </tr>\n",
              "    <tr>\n",
              "      <th>127</th>\n",
              "      <td>5.0</td>\n",
              "      <td>\"Overall impression: sloppy product\" Flight fr...</td>\n",
              "    </tr>\n",
              "    <tr>\n",
              "      <th>160</th>\n",
              "      <td>5.0</td>\n",
              "      <td>\"most uncomfortable flight\" Mauritius to Paris...</td>\n",
              "    </tr>\n",
              "    <tr>\n",
              "      <th>...</th>\n",
              "      <td>...</td>\n",
              "      <td>...</td>\n",
              "    </tr>\n",
              "    <tr>\n",
              "      <th>8296</th>\n",
              "      <td>5.0</td>\n",
              "      <td>\"will not be flying with Ryanair again\" Liverp...</td>\n",
              "    </tr>\n",
              "    <tr>\n",
              "      <th>8298</th>\n",
              "      <td>5.0</td>\n",
              "      <td>\"not be using Ryanair transfer services\" Venic...</td>\n",
              "    </tr>\n",
              "    <tr>\n",
              "      <th>8312</th>\n",
              "      <td>5.0</td>\n",
              "      <td>\"avoid this airline from now on\" Rome to Budap...</td>\n",
              "    </tr>\n",
              "    <tr>\n",
              "      <th>8382</th>\n",
              "      <td>5.0</td>\n",
              "      <td>\"use again purely for price\" Flew from Stanste...</td>\n",
              "    </tr>\n",
              "    <tr>\n",
              "      <th>8395</th>\n",
              "      <td>5.0</td>\n",
              "      <td>\"Food quite pricey on flight\" Memmingnem to St...</td>\n",
              "    </tr>\n",
              "  </tbody>\n",
              "</table>\n",
              "<p>447 rows × 2 columns</p>\n",
              "</div>\n",
              "      <button class=\"colab-df-convert\" onclick=\"convertToInteractive('df-ffbae6cb-011e-4538-9c5d-5789b00b441b')\"\n",
              "              title=\"Convert this dataframe to an interactive table.\"\n",
              "              style=\"display:none;\">\n",
              "        \n",
              "  <svg xmlns=\"http://www.w3.org/2000/svg\" height=\"24px\"viewBox=\"0 0 24 24\"\n",
              "       width=\"24px\">\n",
              "    <path d=\"M0 0h24v24H0V0z\" fill=\"none\"/>\n",
              "    <path d=\"M18.56 5.44l.94 2.06.94-2.06 2.06-.94-2.06-.94-.94-2.06-.94 2.06-2.06.94zm-11 1L8.5 8.5l.94-2.06 2.06-.94-2.06-.94L8.5 2.5l-.94 2.06-2.06.94zm10 10l.94 2.06.94-2.06 2.06-.94-2.06-.94-.94-2.06-.94 2.06-2.06.94z\"/><path d=\"M17.41 7.96l-1.37-1.37c-.4-.4-.92-.59-1.43-.59-.52 0-1.04.2-1.43.59L10.3 9.45l-7.72 7.72c-.78.78-.78 2.05 0 2.83L4 21.41c.39.39.9.59 1.41.59.51 0 1.02-.2 1.41-.59l7.78-7.78 2.81-2.81c.8-.78.8-2.07 0-2.86zM5.41 20L4 18.59l7.72-7.72 1.47 1.35L5.41 20z\"/>\n",
              "  </svg>\n",
              "      </button>\n",
              "      \n",
              "  <style>\n",
              "    .colab-df-container {\n",
              "      display:flex;\n",
              "      flex-wrap:wrap;\n",
              "      gap: 12px;\n",
              "    }\n",
              "\n",
              "    .colab-df-convert {\n",
              "      background-color: #E8F0FE;\n",
              "      border: none;\n",
              "      border-radius: 50%;\n",
              "      cursor: pointer;\n",
              "      display: none;\n",
              "      fill: #1967D2;\n",
              "      height: 32px;\n",
              "      padding: 0 0 0 0;\n",
              "      width: 32px;\n",
              "    }\n",
              "\n",
              "    .colab-df-convert:hover {\n",
              "      background-color: #E2EBFA;\n",
              "      box-shadow: 0px 1px 2px rgba(60, 64, 67, 0.3), 0px 1px 3px 1px rgba(60, 64, 67, 0.15);\n",
              "      fill: #174EA6;\n",
              "    }\n",
              "\n",
              "    [theme=dark] .colab-df-convert {\n",
              "      background-color: #3B4455;\n",
              "      fill: #D2E3FC;\n",
              "    }\n",
              "\n",
              "    [theme=dark] .colab-df-convert:hover {\n",
              "      background-color: #434B5C;\n",
              "      box-shadow: 0px 1px 3px 1px rgba(0, 0, 0, 0.15);\n",
              "      filter: drop-shadow(0px 1px 2px rgba(0, 0, 0, 0.3));\n",
              "      fill: #FFFFFF;\n",
              "    }\n",
              "  </style>\n",
              "\n",
              "      <script>\n",
              "        const buttonEl =\n",
              "          document.querySelector('#df-ffbae6cb-011e-4538-9c5d-5789b00b441b button.colab-df-convert');\n",
              "        buttonEl.style.display =\n",
              "          google.colab.kernel.accessAllowed ? 'block' : 'none';\n",
              "\n",
              "        async function convertToInteractive(key) {\n",
              "          const element = document.querySelector('#df-ffbae6cb-011e-4538-9c5d-5789b00b441b');\n",
              "          const dataTable =\n",
              "            await google.colab.kernel.invokeFunction('convertToInteractive',\n",
              "                                                     [key], {});\n",
              "          if (!dataTable) return;\n",
              "\n",
              "          const docLinkHtml = 'Like what you see? Visit the ' +\n",
              "            '<a target=\"_blank\" href=https://colab.research.google.com/notebooks/data_table.ipynb>data table notebook</a>'\n",
              "            + ' to learn more about interactive tables.';\n",
              "          element.innerHTML = '';\n",
              "          dataTable['output_type'] = 'display_data';\n",
              "          await google.colab.output.renderOutput(dataTable, element);\n",
              "          const docLink = document.createElement('div');\n",
              "          docLink.innerHTML = docLinkHtml;\n",
              "          element.appendChild(docLink);\n",
              "        }\n",
              "      </script>\n",
              "    </div>\n",
              "  </div>\n",
              "  "
            ],
            "text/plain": [
              "      score                                        full_review\n",
              "14      5.0  \"All in all, a decent experience\" It was very ...\n",
              "58      5.0  \"had the mask only on the chin\" Today as I boa...\n",
              "87      5.0  \"My disappointment is with the food service\" F...\n",
              "127     5.0  \"Overall impression: sloppy product\" Flight fr...\n",
              "160     5.0  \"most uncomfortable flight\" Mauritius to Paris...\n",
              "...     ...                                                ...\n",
              "8296    5.0  \"will not be flying with Ryanair again\" Liverp...\n",
              "8298    5.0  \"not be using Ryanair transfer services\" Venic...\n",
              "8312    5.0  \"avoid this airline from now on\" Rome to Budap...\n",
              "8382    5.0  \"use again purely for price\" Flew from Stanste...\n",
              "8395    5.0  \"Food quite pricey on flight\" Memmingnem to St...\n",
              "\n",
              "[447 rows x 2 columns]"
            ]
          },
          "metadata": {},
          "execution_count": 81
        }
      ]
    },
    {
      "cell_type": "code",
      "source": [
        "# reviews with 6 are pretty generic, from seven is when they start being fairly positive\n",
        "df_slim[df_slim['score'] == 6]"
      ],
      "metadata": {
        "colab": {
          "base_uri": "https://localhost:8080/",
          "height": 423
        },
        "id": "TaVdVv57ZBSH",
        "outputId": "628abf41-7f7b-40b2-a9d2-ed7b75f5f8d5"
      },
      "execution_count": 82,
      "outputs": [
        {
          "output_type": "execute_result",
          "data": {
            "text/html": [
              "\n",
              "  <div id=\"df-f0a862ea-7d57-405e-b3e4-d172a1c82385\">\n",
              "    <div class=\"colab-df-container\">\n",
              "      <div>\n",
              "<style scoped>\n",
              "    .dataframe tbody tr th:only-of-type {\n",
              "        vertical-align: middle;\n",
              "    }\n",
              "\n",
              "    .dataframe tbody tr th {\n",
              "        vertical-align: top;\n",
              "    }\n",
              "\n",
              "    .dataframe thead th {\n",
              "        text-align: right;\n",
              "    }\n",
              "</style>\n",
              "<table border=\"1\" class=\"dataframe\">\n",
              "  <thead>\n",
              "    <tr style=\"text-align: right;\">\n",
              "      <th></th>\n",
              "      <th>score</th>\n",
              "      <th>full_review</th>\n",
              "    </tr>\n",
              "  </thead>\n",
              "  <tbody>\n",
              "    <tr>\n",
              "      <th>16</th>\n",
              "      <td>6.0</td>\n",
              "      <td>\"Check-in was a mess\" Check-in was a mess. The...</td>\n",
              "    </tr>\n",
              "    <tr>\n",
              "      <th>92</th>\n",
              "      <td>6.0</td>\n",
              "      <td>\"checked size and weight of cabin bags\" Paris ...</td>\n",
              "    </tr>\n",
              "    <tr>\n",
              "      <th>124</th>\n",
              "      <td>6.0</td>\n",
              "      <td>\"My issue is with the baggage policy\" First, t...</td>\n",
              "    </tr>\n",
              "    <tr>\n",
              "      <th>133</th>\n",
              "      <td>6.0</td>\n",
              "      <td>\"Very poor business class\" Bought a seat in bu...</td>\n",
              "    </tr>\n",
              "    <tr>\n",
              "      <th>176</th>\n",
              "      <td>6.0</td>\n",
              "      <td>\"cabin looked very tired and in need of a refr...</td>\n",
              "    </tr>\n",
              "    <tr>\n",
              "      <th>...</th>\n",
              "      <td>...</td>\n",
              "      <td>...</td>\n",
              "    </tr>\n",
              "    <tr>\n",
              "      <th>8324</th>\n",
              "      <td>6.0</td>\n",
              "      <td>\"should improve some parts\" Wroclaw to Warsaw....</td>\n",
              "    </tr>\n",
              "    <tr>\n",
              "      <th>8348</th>\n",
              "      <td>6.0</td>\n",
              "      <td>\"I would fly with Ryanair again\" Rome to Stans...</td>\n",
              "    </tr>\n",
              "    <tr>\n",
              "      <th>8369</th>\n",
              "      <td>6.0</td>\n",
              "      <td>\"attitude of that wonderful lady\" Stansted to ...</td>\n",
              "    </tr>\n",
              "    <tr>\n",
              "      <th>8388</th>\n",
              "      <td>6.0</td>\n",
              "      <td>\"you cannot have high expectations\" Ryanair pr...</td>\n",
              "    </tr>\n",
              "    <tr>\n",
              "      <th>8403</th>\n",
              "      <td>6.0</td>\n",
              "      <td>\"value for money was great\" Ponta Delgada to L...</td>\n",
              "    </tr>\n",
              "  </tbody>\n",
              "</table>\n",
              "<p>358 rows × 2 columns</p>\n",
              "</div>\n",
              "      <button class=\"colab-df-convert\" onclick=\"convertToInteractive('df-f0a862ea-7d57-405e-b3e4-d172a1c82385')\"\n",
              "              title=\"Convert this dataframe to an interactive table.\"\n",
              "              style=\"display:none;\">\n",
              "        \n",
              "  <svg xmlns=\"http://www.w3.org/2000/svg\" height=\"24px\"viewBox=\"0 0 24 24\"\n",
              "       width=\"24px\">\n",
              "    <path d=\"M0 0h24v24H0V0z\" fill=\"none\"/>\n",
              "    <path d=\"M18.56 5.44l.94 2.06.94-2.06 2.06-.94-2.06-.94-.94-2.06-.94 2.06-2.06.94zm-11 1L8.5 8.5l.94-2.06 2.06-.94-2.06-.94L8.5 2.5l-.94 2.06-2.06.94zm10 10l.94 2.06.94-2.06 2.06-.94-2.06-.94-.94-2.06-.94 2.06-2.06.94z\"/><path d=\"M17.41 7.96l-1.37-1.37c-.4-.4-.92-.59-1.43-.59-.52 0-1.04.2-1.43.59L10.3 9.45l-7.72 7.72c-.78.78-.78 2.05 0 2.83L4 21.41c.39.39.9.59 1.41.59.51 0 1.02-.2 1.41-.59l7.78-7.78 2.81-2.81c.8-.78.8-2.07 0-2.86zM5.41 20L4 18.59l7.72-7.72 1.47 1.35L5.41 20z\"/>\n",
              "  </svg>\n",
              "      </button>\n",
              "      \n",
              "  <style>\n",
              "    .colab-df-container {\n",
              "      display:flex;\n",
              "      flex-wrap:wrap;\n",
              "      gap: 12px;\n",
              "    }\n",
              "\n",
              "    .colab-df-convert {\n",
              "      background-color: #E8F0FE;\n",
              "      border: none;\n",
              "      border-radius: 50%;\n",
              "      cursor: pointer;\n",
              "      display: none;\n",
              "      fill: #1967D2;\n",
              "      height: 32px;\n",
              "      padding: 0 0 0 0;\n",
              "      width: 32px;\n",
              "    }\n",
              "\n",
              "    .colab-df-convert:hover {\n",
              "      background-color: #E2EBFA;\n",
              "      box-shadow: 0px 1px 2px rgba(60, 64, 67, 0.3), 0px 1px 3px 1px rgba(60, 64, 67, 0.15);\n",
              "      fill: #174EA6;\n",
              "    }\n",
              "\n",
              "    [theme=dark] .colab-df-convert {\n",
              "      background-color: #3B4455;\n",
              "      fill: #D2E3FC;\n",
              "    }\n",
              "\n",
              "    [theme=dark] .colab-df-convert:hover {\n",
              "      background-color: #434B5C;\n",
              "      box-shadow: 0px 1px 3px 1px rgba(0, 0, 0, 0.15);\n",
              "      filter: drop-shadow(0px 1px 2px rgba(0, 0, 0, 0.3));\n",
              "      fill: #FFFFFF;\n",
              "    }\n",
              "  </style>\n",
              "\n",
              "      <script>\n",
              "        const buttonEl =\n",
              "          document.querySelector('#df-f0a862ea-7d57-405e-b3e4-d172a1c82385 button.colab-df-convert');\n",
              "        buttonEl.style.display =\n",
              "          google.colab.kernel.accessAllowed ? 'block' : 'none';\n",
              "\n",
              "        async function convertToInteractive(key) {\n",
              "          const element = document.querySelector('#df-f0a862ea-7d57-405e-b3e4-d172a1c82385');\n",
              "          const dataTable =\n",
              "            await google.colab.kernel.invokeFunction('convertToInteractive',\n",
              "                                                     [key], {});\n",
              "          if (!dataTable) return;\n",
              "\n",
              "          const docLinkHtml = 'Like what you see? Visit the ' +\n",
              "            '<a target=\"_blank\" href=https://colab.research.google.com/notebooks/data_table.ipynb>data table notebook</a>'\n",
              "            + ' to learn more about interactive tables.';\n",
              "          element.innerHTML = '';\n",
              "          dataTable['output_type'] = 'display_data';\n",
              "          await google.colab.output.renderOutput(dataTable, element);\n",
              "          const docLink = document.createElement('div');\n",
              "          docLink.innerHTML = docLinkHtml;\n",
              "          element.appendChild(docLink);\n",
              "        }\n",
              "      </script>\n",
              "    </div>\n",
              "  </div>\n",
              "  "
            ],
            "text/plain": [
              "      score                                        full_review\n",
              "16      6.0  \"Check-in was a mess\" Check-in was a mess. The...\n",
              "92      6.0  \"checked size and weight of cabin bags\" Paris ...\n",
              "124     6.0  \"My issue is with the baggage policy\" First, t...\n",
              "133     6.0  \"Very poor business class\" Bought a seat in bu...\n",
              "176     6.0  \"cabin looked very tired and in need of a refr...\n",
              "...     ...                                                ...\n",
              "8324    6.0  \"should improve some parts\" Wroclaw to Warsaw....\n",
              "8348    6.0  \"I would fly with Ryanair again\" Rome to Stans...\n",
              "8369    6.0  \"attitude of that wonderful lady\" Stansted to ...\n",
              "8388    6.0  \"you cannot have high expectations\" Ryanair pr...\n",
              "8403    6.0  \"value for money was great\" Ponta Delgada to L...\n",
              "\n",
              "[358 rows x 2 columns]"
            ]
          },
          "metadata": {},
          "execution_count": 82
        }
      ]
    },
    {
      "cell_type": "code",
      "source": [
        "# create binary label of reviews from scores giving on review\n",
        "'''\n",
        "If score is 7-10 is a good rating\n",
        "6 is neutral\n",
        "1-5 is bad\n",
        "\n",
        "If score is 7-10 then 1 (labeled good)\n",
        "if score is 6 these rows will be ignored\n",
        "if 1-5 then 0 (labeled bad)\n",
        "'''\n",
        "\n",
        "# filter our reviews with 6\n",
        "df_slimmer = df_slim[df_slim['score'] != 6]\n",
        "\n",
        "# label reviews\n",
        "labels = []\n",
        "for row in df_slimmer['score']:\n",
        "    if row <= 5:    labels.append(0) # bad reviews\n",
        "    else:   labels.append(1) # good reviews\n",
        "\n",
        "df_slimmer['label'] = labels\n"
      ],
      "metadata": {
        "colab": {
          "base_uri": "https://localhost:8080/"
        },
        "id": "5Lli6nYxXIVu",
        "outputId": "308755d5-dad7-4ae1-b958-0223c6fe0352"
      },
      "execution_count": 83,
      "outputs": [
        {
          "output_type": "stream",
          "name": "stderr",
          "text": [
            "/usr/local/lib/python3.7/dist-packages/ipykernel_launcher.py:21: SettingWithCopyWarning: \n",
            "A value is trying to be set on a copy of a slice from a DataFrame.\n",
            "Try using .loc[row_indexer,col_indexer] = value instead\n",
            "\n",
            "See the caveats in the documentation: https://pandas.pydata.org/pandas-docs/stable/user_guide/indexing.html#returning-a-view-versus-a-copy\n"
          ]
        }
      ]
    },
    {
      "cell_type": "markdown",
      "source": [
        "## Lemmatization"
      ],
      "metadata": {
        "id": "aOATeikZboBE"
      }
    },
    {
      "cell_type": "code",
      "source": [
        "# lower case\n",
        "df_slimmer['lower_case'] = df_slimmer['full_review'].apply(lambda x: ' '.join(x.lower() for x in str(x).split()))\n",
        "# remove possible HTML tags and any URLS\n",
        "from bs4 import BeautifulSoup\n",
        "df_slimmer['pre_process']=df_slimmer['lower_case'].apply(lambda x: BeautifulSoup(x).get_text())\n",
        "import re\n",
        "df_slimmer['pre_process']=df_slimmer['pre_process'].apply(lambda x: re.sub(r\"http\\S+\", '', x))\n",
        "# contractions\n",
        "def contractions(s):\n",
        " s = re.sub(r\"won’t\", \"will not\",s)\n",
        " s = re.sub(r\"-\", \" to \",s) # for things like CDG-ATL\n",
        " s = re.sub(r\"would’t\", \"would not\",s)\n",
        " s = re.sub(r\"could’t\", \"could not\",s)\n",
        " s = re.sub(r\"cannot\", \"can not\",s)\n",
        " s = re.sub(r\"\\’d\", \" would\",s)\n",
        " s = re.sub(r\"can\\’t\", \"can not\",s)\n",
        " s = re.sub(r\"n\\’t\", \" not\", s)\n",
        " s= re.sub(r\"\\’re\", \" are\", s)\n",
        " s = re.sub(r\"\\’s\", \" is\", s)\n",
        " s = re.sub(r\"\\’ll\", \" will\", s)\n",
        " s = re.sub(r\"\\’t\", \" not\", s)\n",
        " s = re.sub(r\"\\’ve\", \" have\", s)\n",
        " s = re.sub(r\"\\’m\", \" am\", s)\n",
        " return s\n",
        "\n",
        "# replace contractions\n",
        "df_slimmer['pre_process'] = df_slimmer['pre_process'].apply(lambda x:contractions(x))\n",
        "# remove non-alphabet characters\n",
        "nltk.download('punkt')\n",
        "df_slimmer['pre_process'] = df_slimmer['pre_process'].apply(lambda x: \" \".join([re.sub(\"[^A-Za-z]+\",\"\", x) for x in nltk.word_tokenize(x)]))\n",
        "df_slimmer = df_slimmer[['score', 'label', 'full_review', 'pre_process']]\n",
        "# remove extra spaces\n",
        "df_slimmer['pre_process'] = df_slimmer['pre_process'].apply(lambda x: re.sub(' +', \" \", x))\n",
        "# remove stop words\n",
        "nltk.download('stopwords')\n",
        "from nltk.corpus import stopwords\n",
        "\n",
        "stop = stopwords.words(\"english\")\n",
        "df_slimmer['pre_process'] = df_slimmer['pre_process'].apply(lambda x: \" \".join([x for x in x.split() if x not in stop]))\n",
        "# lemmatization\n",
        "nltk.download('wordnet')\n",
        "from nltk.stem import WordNetLemmatizer\n",
        "\n",
        "lemmatizer = WordNetLemmatizer()\n",
        "df_slimmer['pre_process'] = df_slimmer['pre_process'].apply(lambda x: \" \".join([lemmatizer.lemmatize(w) for w in nltk.word_tokenize(x)]))\n",
        "# pass over ready df\n",
        "df_pp = df_slimmer[['score', 'label', 'pre_process']]"
      ],
      "metadata": {
        "id": "C-m2j1KzkSw4"
      },
      "execution_count": null,
      "outputs": []
    },
    {
      "cell_type": "markdown",
      "source": [
        "# TD IDF + Classifiers Feature Extraction"
      ],
      "metadata": {
        "id": "7ryPhnC8vttb"
      }
    },
    {
      "cell_type": "markdown",
      "source": [
        "## TD IDF Vector/Matrix"
      ],
      "metadata": {
        "id": "Rkpvo4SHziRg"
      }
    },
    {
      "cell_type": "code",
      "source": [
        "# renaming columns to not get it twisted \n",
        "df_pp = df_pp.rename(columns={'pre_process': 'lemmatized'})"
      ],
      "metadata": {
        "id": "kogatGK3v0xk"
      },
      "execution_count": 88,
      "outputs": []
    },
    {
      "cell_type": "code",
      "source": [
        "# TD IDF using scikitlearn\n",
        "from sklearn.model_selection import train_test_split\n",
        "\n",
        "# split data\n",
        "X_train,X_test,Y_train, Y_test = train_test_split(df_pp['lemmatized'], df_pp['label'], test_size=0.25, random_state=30)\n",
        "print(\"Train: \",X_train.shape,Y_train.shape, \"Test: \",(X_test.shape,Y_test.shape))"
      ],
      "metadata": {
        "colab": {
          "base_uri": "https://localhost:8080/"
        },
        "id": "GmBAJ5ojwUuX",
        "outputId": "eb562623-3909-4424-81b2-9af99ba6cb56"
      },
      "execution_count": 194,
      "outputs": [
        {
          "output_type": "stream",
          "name": "stdout",
          "text": [
            "Train:  (6048,) (6048,) Test:  ((2017,), (2017,))\n"
          ]
        }
      ]
    },
    {
      "cell_type": "code",
      "source": [
        "# TD IDF vectorizer\n",
        "print(\"TFIDF Vectorizer……\")\n",
        "\n",
        "from sklearn.feature_extraction.text import TfidfVectorizer\n",
        "\n",
        "vectorizer= TfidfVectorizer()\n",
        "tf_x_train = vectorizer.fit_transform(X_train)\n",
        "tf_x_test = vectorizer.transform(X_test)\n",
        "print(\" done!\")"
      ],
      "metadata": {
        "colab": {
          "base_uri": "https://localhost:8080/"
        },
        "id": "KI4xddS_xe3u",
        "outputId": "0c236796-f1d3-464d-8747-485a2d155fd6"
      },
      "execution_count": 195,
      "outputs": [
        {
          "output_type": "stream",
          "name": "stdout",
          "text": [
            "TFIDF Vectorizer……\n",
            " done!\n"
          ]
        }
      ]
    },
    {
      "cell_type": "markdown",
      "source": [
        "## SVM"
      ],
      "metadata": {
        "id": "tlD82suMzb82"
      }
    },
    {
      "cell_type": "code",
      "source": [
        "# SVM\n",
        "from sklearn.svm import LinearSVC\n",
        "\n",
        "svm = LinearSVC(random_state=0)"
      ],
      "metadata": {
        "id": "krJOxGttx_UF"
      },
      "execution_count": 165,
      "outputs": []
    },
    {
      "cell_type": "code",
      "source": [
        "# fit training data into the model\n",
        "svm.fit(tf_x_train,Y_train)"
      ],
      "metadata": {
        "colab": {
          "base_uri": "https://localhost:8080/"
        },
        "id": "8i5E22X-yag-",
        "outputId": "4e99268b-4ab7-4bd6-c446-1f4fa38d0a4e"
      },
      "execution_count": 166,
      "outputs": [
        {
          "output_type": "execute_result",
          "data": {
            "text/plain": [
              "LinearSVC(random_state=0)"
            ]
          },
          "metadata": {},
          "execution_count": 166
        }
      ]
    },
    {
      "cell_type": "code",
      "source": [
        "# predict test data\n",
        "y_test_pred = svm.predict(tf_x_test)\n"
      ],
      "metadata": {
        "id": "Ijv_qOfSydCG"
      },
      "execution_count": 168,
      "outputs": []
    },
    {
      "cell_type": "code",
      "source": [
        "# analyze results\n",
        "from sklearn.metrics import classification_report\n",
        "\n",
        "report = classification_report(Y_test, y_test_pred, output_dict=True)"
      ],
      "metadata": {
        "id": "xvbtwftHyiS-"
      },
      "execution_count": 169,
      "outputs": []
    },
    {
      "cell_type": "code",
      "source": [
        "report"
      ],
      "metadata": {
        "colab": {
          "base_uri": "https://localhost:8080/"
        },
        "id": "sjHfrRgbyiLi",
        "outputId": "2f6c8a7d-f100-481e-a3c5-272edc05739d"
      },
      "execution_count": 170,
      "outputs": [
        {
          "output_type": "execute_result",
          "data": {
            "text/plain": [
              "{'0': {'f1-score': 0.9298162976919454,\n",
              "  'precision': 0.9293785310734464,\n",
              "  'recall': 0.9302544769085768,\n",
              "  'support': 1061},\n",
              " '1': {'f1-score': 0.9220303506017792,\n",
              "  'precision': 0.9225130890052357,\n",
              "  'recall': 0.9215481171548117,\n",
              "  'support': 956},\n",
              " 'accuracy': 0.9261279127416956,\n",
              " 'macro avg': {'f1-score': 0.9259233241468623,\n",
              "  'precision': 0.925945810039341,\n",
              "  'recall': 0.9259012970316942,\n",
              "  'support': 2017},\n",
              " 'weighted avg': {'f1-score': 0.9261259826606122,\n",
              "  'precision': 0.9261245089528666,\n",
              "  'recall': 0.9261279127416956,\n",
              "  'support': 2017}}"
            ]
          },
          "metadata": {},
          "execution_count": 170
        }
      ]
    },
    {
      "cell_type": "markdown",
      "source": [
        "## Logistic Regression"
      ],
      "metadata": {
        "id": "Dw4OwcZPzd95"
      }
    },
    {
      "cell_type": "code",
      "source": [
        "# logistic regression\n",
        "from sklearn.linear_model import LogisticRegression\n",
        "clf = LogisticRegression(max_iter=1000,solver=\"saga\")"
      ],
      "metadata": {
        "id": "ei8zJDV5zf1a"
      },
      "execution_count": 101,
      "outputs": []
    },
    {
      "cell_type": "code",
      "source": [
        "# fit model to trainning data\n",
        "clf.fit(tf_x_train,Y_train)"
      ],
      "metadata": {
        "colab": {
          "base_uri": "https://localhost:8080/"
        },
        "id": "5i4FHWq8zuVV",
        "outputId": "a289998b-d4c0-4550-fca8-5f3273640813"
      },
      "execution_count": 102,
      "outputs": [
        {
          "output_type": "execute_result",
          "data": {
            "text/plain": [
              "LogisticRegression(max_iter=1000, solver='saga')"
            ]
          },
          "metadata": {},
          "execution_count": 102
        }
      ]
    },
    {
      "cell_type": "code",
      "source": [
        "# predicting the test data\n",
        "y_test_pred = clf.predict(tf_x_test)"
      ],
      "metadata": {
        "id": "DZ_tYNlOz5kW"
      },
      "execution_count": 103,
      "outputs": []
    },
    {
      "cell_type": "code",
      "source": [
        "# analyze results\n",
        "from sklearn.metrics import classification_report\n",
        "report = classification_report(Y_test, y_test_pred, output_dict=True)"
      ],
      "metadata": {
        "id": "Y8yqmu3Lz-6R"
      },
      "execution_count": 104,
      "outputs": []
    },
    {
      "cell_type": "code",
      "source": [
        "report"
      ],
      "metadata": {
        "colab": {
          "base_uri": "https://localhost:8080/"
        },
        "id": "4mvH1EBe0DVW",
        "outputId": "e9e48c7a-955b-4286-a6f2-a72e99a08124"
      },
      "execution_count": 105,
      "outputs": [
        {
          "output_type": "execute_result",
          "data": {
            "text/plain": [
              "{'0': {'f1-score': 0.9247412982126059,\n",
              "  'precision': 0.9230046948356807,\n",
              "  'recall': 0.9264844486333648,\n",
              "  'support': 1061},\n",
              " '1': {'f1-score': 0.9161425576519916,\n",
              "  'precision': 0.9180672268907563,\n",
              "  'recall': 0.9142259414225942,\n",
              "  'support': 956},\n",
              " 'accuracy': 0.9206742687159147,\n",
              " 'macro avg': {'f1-score': 0.9204419279322987,\n",
              "  'precision': 0.9205359608632184,\n",
              "  'recall': 0.9203551950279795,\n",
              "  'support': 2017},\n",
              " 'weighted avg': {'f1-score': 0.9206657424486261,\n",
              "  'precision': 0.9206644770095291,\n",
              "  'recall': 0.9206742687159147,\n",
              "  'support': 2017}}"
            ]
          },
          "metadata": {},
          "execution_count": 105
        }
      ]
    },
    {
      "cell_type": "markdown",
      "source": [
        "## Random Forests"
      ],
      "metadata": {
        "id": "htC42czs0dy4"
      }
    },
    {
      "cell_type": "code",
      "source": [
        "# Random Forests\n",
        "from sklearn.ensemble import RandomForestClassifier\n",
        "clf = RandomForestClassifier(max_depth=20, n_estimators=1000, random_state=0)"
      ],
      "metadata": {
        "id": "tG-E-NBW0koJ"
      },
      "execution_count": 116,
      "outputs": []
    },
    {
      "cell_type": "code",
      "source": [
        "# fit model to trainning data\n",
        "clf.fit(tf_x_train,Y_train)"
      ],
      "metadata": {
        "colab": {
          "base_uri": "https://localhost:8080/"
        },
        "outputId": "209e2af8-d823-42a1-9c96-2c0cc75f89f8",
        "id": "0G4uT0Rl0koJ"
      },
      "execution_count": 117,
      "outputs": [
        {
          "output_type": "execute_result",
          "data": {
            "text/plain": [
              "RandomForestClassifier(max_depth=20, n_estimators=1000, random_state=0)"
            ]
          },
          "metadata": {},
          "execution_count": 117
        }
      ]
    },
    {
      "cell_type": "code",
      "source": [
        "# predicting the test data\n",
        "y_test_pred = clf.predict(tf_x_test)"
      ],
      "metadata": {
        "id": "IDBkDkmX0koK"
      },
      "execution_count": 118,
      "outputs": []
    },
    {
      "cell_type": "code",
      "source": [
        "# analyze results\n",
        "from sklearn.metrics import classification_report\n",
        "report = classification_report(Y_test, y_test_pred, output_dict=True)"
      ],
      "metadata": {
        "id": "Z3f7ATcf0koK"
      },
      "execution_count": 119,
      "outputs": []
    },
    {
      "cell_type": "code",
      "source": [
        "report"
      ],
      "metadata": {
        "colab": {
          "base_uri": "https://localhost:8080/"
        },
        "outputId": "3d95d520-b369-457a-b0f9-0262297f3cc2",
        "id": "wSrVl65i0koK"
      },
      "execution_count": 120,
      "outputs": [
        {
          "output_type": "execute_result",
          "data": {
            "text/plain": [
              "{'0': {'f1-score': 0.886255924170616,\n",
              "  'precision': 0.8913250714966635,\n",
              "  'recall': 0.88124410933082,\n",
              "  'support': 1061},\n",
              " '1': {'f1-score': 0.8752598752598754,\n",
              "  'precision': 0.8698347107438017,\n",
              "  'recall': 0.8807531380753139,\n",
              "  'support': 956},\n",
              " 'accuracy': 0.881011403073872,\n",
              " 'macro avg': {'f1-score': 0.8807578997152457,\n",
              "  'precision': 0.8805798911202326,\n",
              "  'recall': 0.8809986237030669,\n",
              "  'support': 2017},\n",
              " 'weighted avg': {'f1-score': 0.8810441131846626,\n",
              "  'precision': 0.881139258467543,\n",
              "  'recall': 0.881011403073872,\n",
              "  'support': 2017}}"
            ]
          },
          "metadata": {},
          "execution_count": 120
        }
      ]
    },
    {
      "cell_type": "markdown",
      "source": [
        "### RF + GridSearch + CV"
      ],
      "metadata": {
        "id": "jKz8Gqiv2G8H"
      }
    },
    {
      "cell_type": "code",
      "source": [
        "# initialize gridsearch model\n",
        "\n",
        "from sklearn.model_selection import GridSearchCV\n",
        "# Create the parameter grid based on the results of random search \n",
        "param_grid = {\n",
        "    'bootstrap': [True],\n",
        "    'max_depth': [20, 30, 40, 50, 100],\n",
        "    'max_features': [3, 4, 5],\n",
        "    'min_samples_leaf': [3, 4, 5],\n",
        "    'min_samples_split': [4, 8, 10],\n",
        "    'n_estimators': [100, 500, 1000]\n",
        "}\n",
        "# Create a based model\n",
        "rf = RandomForestClassifier()\n",
        "# Instantiate the grid search model\n",
        "grid_search = GridSearchCV(estimator = rf, param_grid = param_grid, \n",
        "                          cv = 3, n_jobs = 5, verbose = True)"
      ],
      "metadata": {
        "id": "IQ9YZTgN2GMu"
      },
      "execution_count": 137,
      "outputs": []
    },
    {
      "cell_type": "code",
      "source": [
        "# Fit the grid search to the data\n",
        "grid_search.fit(tf_x_train, Y_train)\n",
        "grid_search.best_params_\n",
        "# {'bootstrap': True,\n",
        "#  'max_depth': 50,\n",
        "#  'max_features': 5,\n",
        "#  'min_samples_leaf': 3,\n",
        "#  'min_samples_split': 4,\n",
        "#  'n_estimators': 100}"
      ],
      "metadata": {
        "colab": {
          "base_uri": "https://localhost:8080/"
        },
        "id": "f2zUldB-3MWH",
        "outputId": "b4d88476-ed44-4e53-8c2d-71aeaa7ef13e"
      },
      "execution_count": 138,
      "outputs": [
        {
          "output_type": "stream",
          "name": "stdout",
          "text": [
            "Fitting 3 folds for each of 405 candidates, totalling 1215 fits\n",
            "CPU times: user 4 µs, sys: 0 ns, total: 4 µs\n",
            "Wall time: 6.68 µs\n"
          ]
        }
      ]
    },
    {
      "cell_type": "code",
      "source": [
        "grid_search.best_params_"
      ],
      "metadata": {
        "colab": {
          "base_uri": "https://localhost:8080/"
        },
        "id": "f3IHPLrke4gq",
        "outputId": "3f7aa6ad-923c-44c4-dbb3-81ba8b20518b"
      },
      "execution_count": 139,
      "outputs": [
        {
          "output_type": "execute_result",
          "data": {
            "text/plain": [
              "{'bootstrap': True,\n",
              " 'max_depth': 50,\n",
              " 'max_features': 5,\n",
              " 'min_samples_leaf': 3,\n",
              " 'min_samples_split': 4,\n",
              " 'n_estimators': 100}"
            ]
          },
          "metadata": {},
          "execution_count": 139
        }
      ]
    },
    {
      "cell_type": "code",
      "source": [
        "# Random Forests\n",
        "from sklearn.ensemble import RandomForestClassifier\n",
        "clf = RandomForestClassifier(max_depth=50, n_estimators=1000, random_state=0)"
      ],
      "metadata": {
        "id": "TlvNL3Sxfe7v"
      },
      "execution_count": 155,
      "outputs": []
    },
    {
      "cell_type": "code",
      "source": [
        "# fit model to trainning data\n",
        "clf.fit(tf_x_train,Y_train)"
      ],
      "metadata": {
        "colab": {
          "base_uri": "https://localhost:8080/"
        },
        "outputId": "86dfb124-e30a-487d-f52d-78ac0d58ae8e",
        "id": "CQ0kWdHdfe7v"
      },
      "execution_count": 156,
      "outputs": [
        {
          "output_type": "execute_result",
          "data": {
            "text/plain": [
              "RandomForestClassifier(max_depth=50, n_estimators=1000, random_state=0)"
            ]
          },
          "metadata": {},
          "execution_count": 156
        }
      ]
    },
    {
      "cell_type": "code",
      "source": [
        "# predicting the test data\n",
        "y_test_pred = clf.predict(tf_x_test)"
      ],
      "metadata": {
        "id": "yVXg7ZAJfe7w"
      },
      "execution_count": 157,
      "outputs": []
    },
    {
      "cell_type": "code",
      "source": [
        "# analyze results\n",
        "from sklearn.metrics import classification_report\n",
        "report = classification_report(Y_test, y_test_pred, output_dict=True)"
      ],
      "metadata": {
        "id": "H6RhsYUVfe7w"
      },
      "execution_count": 158,
      "outputs": []
    },
    {
      "cell_type": "code",
      "source": [
        "report"
      ],
      "metadata": {
        "colab": {
          "base_uri": "https://localhost:8080/"
        },
        "outputId": "181a8125-ec9d-4ab9-c7c5-a1ccec58cf3d",
        "id": "9BYcyguVfe7w"
      },
      "execution_count": 159,
      "outputs": [
        {
          "output_type": "execute_result",
          "data": {
            "text/plain": [
              "{'0': {'f1-score': 0.893657606103958,\n",
              "  'precision': 0.9044401544401545,\n",
              "  'recall': 0.883129123468426,\n",
              "  'support': 1061},\n",
              " '1': {'f1-score': 0.8848735157459989,\n",
              "  'precision': 0.873598369011213,\n",
              "  'recall': 0.8964435146443515,\n",
              "  'support': 956},\n",
              " 'accuracy': 0.8894397620228062,\n",
              " 'macro avg': {'f1-score': 0.8892655609249784,\n",
              "  'precision': 0.8890192617256838,\n",
              "  'recall': 0.8897863190563887,\n",
              "  'support': 2017},\n",
              " 'weighted avg': {'f1-score': 0.8894941998658772,\n",
              "  'precision': 0.8898220350201901,\n",
              "  'recall': 0.8894397620228062,\n",
              "  'support': 2017}}"
            ]
          },
          "metadata": {},
          "execution_count": 159
        }
      ]
    },
    {
      "cell_type": "markdown",
      "source": [
        "## XGBoost"
      ],
      "metadata": {
        "id": "SOyiPypREoIF"
      }
    },
    {
      "cell_type": "code",
      "source": [
        "import warnings\n",
        "warnings.filterwarnings('ignore')\n",
        "import numpy as np\n",
        "import pandas as pd\n",
        "from datetime import datetime\n",
        "from sklearn.model_selection import RandomizedSearchCV, GridSearchCV\n",
        "from sklearn.metrics import roc_auc_score\n",
        "from sklearn.model_selection import StratifiedKFold\n",
        "from xgboost import XGBClassifier\n",
        "\n",
        "\n",
        "# parameter grid\n",
        "parameters = {'nthread':[4], #when use hyperthread, xgboost may become slower\n",
        "              'objective':['binary:logistic'],\n",
        "              'learning_rate': [0.01, 0.02, 0.03, 0.05, 0.1], #so called `eta` value\n",
        "              'max_depth': [5, 6, 7, 8],\n",
        "              'min_child_weight': [8, 10, 11],\n",
        "              'silent': [1],\n",
        "              'subsample': [0.8, 0.9],\n",
        "              'colsample_bytree': [0.7],\n",
        "              'n_estimators': [800, 900, 1000]\n",
        "              }\n",
        "\n",
        "xgb = XGBClassifier(learning_rate=0.02, n_estimators=600, objective='binary:logistic',\n",
        "                    silent=True, nthread=1)\n",
        "\n",
        "folds = 3\n",
        "param_comb = 5\n",
        "\n",
        "skf = StratifiedKFold(n_splits=folds, shuffle = True, random_state = 1001)\n",
        "\n",
        "random_search = RandomizedSearchCV(xgb, param_distributions=parameters, n_iter=param_comb, scoring='roc_auc', n_jobs=4, cv=skf.split(tf_x_train, Y_train), verbose=3, random_state=1001 )\n",
        "\n",
        "# fit model with GS-CV\n",
        "random_search.fit(tf_x_train, Y_train)\n",
        "%time"
      ],
      "metadata": {
        "colab": {
          "base_uri": "https://localhost:8080/"
        },
        "id": "YzDhY2rxKc0p",
        "outputId": "07dd679b-6d26-461a-89aa-968f9cb19c4a"
      },
      "execution_count": 131,
      "outputs": [
        {
          "output_type": "stream",
          "name": "stdout",
          "text": [
            "CPU times: user 4 µs, sys: 0 ns, total: 4 µs\n",
            "Wall time: 8.82 µs\n",
            "Fitting 3 folds for each of 5 candidates, totalling 15 fits\n"
          ]
        },
        {
          "output_type": "execute_result",
          "data": {
            "text/plain": [
              "RandomizedSearchCV(cv=<generator object _BaseKFold.split at 0x7fec178d6950>,\n",
              "                   estimator=XGBClassifier(learning_rate=0.02, n_estimators=600,\n",
              "                                           nthread=1, silent=True),\n",
              "                   n_iter=5, n_jobs=4,\n",
              "                   param_distributions={'colsample_bytree': [0.7],\n",
              "                                        'learning_rate': [0.01, 0.02, 0.03,\n",
              "                                                          0.05, 0.1],\n",
              "                                        'max_depth': [5, 6, 7, 8],\n",
              "                                        'min_child_weight': [8, 10, 11],\n",
              "                                        'n_estimators': [800, 900, 1000],\n",
              "                                        'nthread': [4],\n",
              "                                        'objective': ['binary:logistic'],\n",
              "                                        'silent': [1],\n",
              "                                        'subsample': [0.8, 0.9]},\n",
              "                   random_state=1001, scoring='roc_auc', verbose=3)"
            ]
          },
          "metadata": {},
          "execution_count": 131
        }
      ]
    },
    {
      "cell_type": "code",
      "source": [
        "print('\\n All results:')\n",
        "print(random_search.cv_results_)\n",
        "print('\\n Best estimator:')\n",
        "print(random_search.best_estimator_)\n",
        "print('\\n Best normalized gini score for %d-fold search with %d parameter combinations:' % (folds, param_comb))\n",
        "print(random_search.best_score_ * 2 - 1)\n",
        "print('\\n Best hyperparameters:')\n",
        "print(random_search.best_params_)\n",
        "results = pd.DataFrame(random_search.cv_results_)\n",
        "results.to_csv('xgb-random-grid-search-results-01.csv', index=False)"
      ],
      "metadata": {
        "colab": {
          "base_uri": "https://localhost:8080/"
        },
        "id": "-t7Emu1wQnR2",
        "outputId": "de01d3cd-b82a-4b32-f9d5-2c2db7aa9795"
      },
      "execution_count": 132,
      "outputs": [
        {
          "output_type": "stream",
          "name": "stdout",
          "text": [
            "\n",
            " All results:\n",
            "{'mean_fit_time': array([141.12503552, 195.3893737 , 201.83231362, 202.55778003,\n",
            "       142.68639787]), 'std_fit_time': array([0.43400143, 0.63233834, 1.12968749, 0.57291537, 2.47800802]), 'mean_score_time': array([0.61430184, 0.96983918, 0.87197741, 0.87802625, 0.28128171]), 'std_score_time': array([0.10817371, 0.07958129, 0.0695021 , 0.0592604 , 0.13069639]), 'param_subsample': masked_array(data=[0.8, 0.9, 0.9, 0.8, 0.9],\n",
            "             mask=[False, False, False, False, False],\n",
            "       fill_value='?',\n",
            "            dtype=object), 'param_silent': masked_array(data=[1, 1, 1, 1, 1],\n",
            "             mask=[False, False, False, False, False],\n",
            "       fill_value='?',\n",
            "            dtype=object), 'param_objective': masked_array(data=['binary:logistic', 'binary:logistic',\n",
            "                   'binary:logistic', 'binary:logistic',\n",
            "                   'binary:logistic'],\n",
            "             mask=[False, False, False, False, False],\n",
            "       fill_value='?',\n",
            "            dtype=object), 'param_nthread': masked_array(data=[4, 4, 4, 4, 4],\n",
            "             mask=[False, False, False, False, False],\n",
            "       fill_value='?',\n",
            "            dtype=object), 'param_n_estimators': masked_array(data=[800, 1000, 800, 900, 900],\n",
            "             mask=[False, False, False, False, False],\n",
            "       fill_value='?',\n",
            "            dtype=object), 'param_min_child_weight': masked_array(data=[11, 10, 8, 11, 11],\n",
            "             mask=[False, False, False, False, False],\n",
            "       fill_value='?',\n",
            "            dtype=object), 'param_max_depth': masked_array(data=[6, 7, 8, 8, 7],\n",
            "             mask=[False, False, False, False, False],\n",
            "       fill_value='?',\n",
            "            dtype=object), 'param_learning_rate': masked_array(data=[0.05, 0.1, 0.01, 0.05, 0.05],\n",
            "             mask=[False, False, False, False, False],\n",
            "       fill_value='?',\n",
            "            dtype=object), 'param_colsample_bytree': masked_array(data=[0.7, 0.7, 0.7, 0.7, 0.7],\n",
            "             mask=[False, False, False, False, False],\n",
            "       fill_value='?',\n",
            "            dtype=object), 'params': [{'subsample': 0.8, 'silent': 1, 'objective': 'binary:logistic', 'nthread': 4, 'n_estimators': 800, 'min_child_weight': 11, 'max_depth': 6, 'learning_rate': 0.05, 'colsample_bytree': 0.7}, {'subsample': 0.9, 'silent': 1, 'objective': 'binary:logistic', 'nthread': 4, 'n_estimators': 1000, 'min_child_weight': 10, 'max_depth': 7, 'learning_rate': 0.1, 'colsample_bytree': 0.7}, {'subsample': 0.9, 'silent': 1, 'objective': 'binary:logistic', 'nthread': 4, 'n_estimators': 800, 'min_child_weight': 8, 'max_depth': 8, 'learning_rate': 0.01, 'colsample_bytree': 0.7}, {'subsample': 0.8, 'silent': 1, 'objective': 'binary:logistic', 'nthread': 4, 'n_estimators': 900, 'min_child_weight': 11, 'max_depth': 8, 'learning_rate': 0.05, 'colsample_bytree': 0.7}, {'subsample': 0.9, 'silent': 1, 'objective': 'binary:logistic', 'nthread': 4, 'n_estimators': 900, 'min_child_weight': 11, 'max_depth': 7, 'learning_rate': 0.05, 'colsample_bytree': 0.7}], 'split0_test_score': array([0.94103527, 0.93599257, 0.94399535, 0.93794687, 0.94080727]), 'split1_test_score': array([0.93802978, 0.93373426, 0.94378314, 0.93492461, 0.93850158]), 'split2_test_score': array([0.95008034, 0.94723476, 0.95169116, 0.94732655, 0.9494526 ]), 'mean_test_score': array([0.94304847, 0.9389872 , 0.94648988, 0.94006601, 0.94292048]), 'std_test_score': array([0.00512144, 0.00590433, 0.00367888, 0.00528016, 0.00471384]), 'rank_test_score': array([2, 5, 1, 4, 3], dtype=int32)}\n",
            "\n",
            " Best estimator:\n",
            "XGBClassifier(colsample_bytree=0.7, learning_rate=0.01, max_depth=8,\n",
            "              min_child_weight=8, n_estimators=800, nthread=4, silent=1,\n",
            "              subsample=0.9)\n",
            "\n",
            " Best normalized gini score for 3-fold search with 5 parameter combinations:\n",
            "0.8929797686682173\n",
            "\n",
            " Best hyperparameters:\n",
            "{'subsample': 0.9, 'silent': 1, 'objective': 'binary:logistic', 'nthread': 4, 'n_estimators': 800, 'min_child_weight': 8, 'max_depth': 8, 'learning_rate': 0.01, 'colsample_bytree': 0.7}\n"
          ]
        }
      ]
    },
    {
      "cell_type": "code",
      "source": [
        "# predicting the test data\n",
        "y_test_pred = random_search.predict(tf_x_test)"
      ],
      "metadata": {
        "id": "foJOu7OdWyoX"
      },
      "execution_count": 133,
      "outputs": []
    },
    {
      "cell_type": "code",
      "source": [
        "# analyze results\n",
        "from sklearn.metrics import classification_report\n",
        "report = classification_report(Y_test, y_test_pred, output_dict=True)"
      ],
      "metadata": {
        "id": "jWn52W0-WyoX"
      },
      "execution_count": 134,
      "outputs": []
    },
    {
      "cell_type": "code",
      "source": [
        "report"
      ],
      "metadata": {
        "colab": {
          "base_uri": "https://localhost:8080/"
        },
        "outputId": "7beed48a-9d42-40b5-f672-48800050d4c0",
        "id": "ZZvlpBRZWyoX"
      },
      "execution_count": 135,
      "outputs": [
        {
          "output_type": "execute_result",
          "data": {
            "text/plain": [
              "{'0': {'f1-score': 0.899526066350711,\n",
              "  'precision': 0.9046711153479504,\n",
              "  'recall': 0.8944392082940622,\n",
              "  'support': 1061},\n",
              " '1': {'f1-score': 0.8898128898128899,\n",
              "  'precision': 0.8842975206611571,\n",
              "  'recall': 0.895397489539749,\n",
              "  'support': 956},\n",
              " 'accuracy': 0.894893406048587,\n",
              " 'macro avg': {'f1-score': 0.8946694780818004,\n",
              "  'precision': 0.8944843180045537,\n",
              "  'recall': 0.8949183489169056,\n",
              "  'support': 2017},\n",
              " 'weighted avg': {'f1-score': 0.8949222999797853,\n",
              "  'precision': 0.8950146173208932,\n",
              "  'recall': 0.894893406048587,\n",
              "  'support': 2017}}"
            ]
          },
          "metadata": {},
          "execution_count": 135
        }
      ]
    },
    {
      "cell_type": "markdown",
      "source": [
        "## Best Model"
      ],
      "metadata": {
        "id": "fPiVjm86Xr2h"
      }
    },
    {
      "cell_type": "code",
      "source": [
        "import pickle\n",
        "# the best model is:\n",
        "best_model = svm\n",
        "# save the model\n",
        "filename = 'best_classifier.sav'\n",
        "pickle.dump(best_model, open(filename, 'wb'))"
      ],
      "metadata": {
        "id": "ujQqV9yxXtm-"
      },
      "execution_count": 172,
      "outputs": []
    },
    {
      "cell_type": "markdown",
      "source": [
        "# Predict for all other entries using best model"
      ],
      "metadata": {
        "id": "vP-Fd5sthAHb"
      }
    },
    {
      "cell_type": "markdown",
      "source": [
        "## Turn other comments into their TF IDF Forms"
      ],
      "metadata": {
        "id": "EbfaXTdwiilF"
      }
    },
    {
      "cell_type": "code",
      "source": [
        "df_full = pd.read_csv('/content/drive/MyDrive/Hackathon M2/Our Data/Merged_data_without_date.csv')"
      ],
      "metadata": {
        "id": "fPJ7IrfRigc4"
      },
      "execution_count": 202,
      "outputs": []
    },
    {
      "cell_type": "code",
      "source": [
        "df_full.tail(5)"
      ],
      "metadata": {
        "colab": {
          "base_uri": "https://localhost:8080/",
          "height": 582
        },
        "id": "RCUkMWcvjX3i",
        "outputId": "7b04a61a-7d62-4854-adb4-b8109b78526a"
      },
      "execution_count": 203,
      "outputs": [
        {
          "output_type": "execute_result",
          "data": {
            "text/html": [
              "\n",
              "  <div id=\"df-457d92e2-68e8-4e5a-b068-aea378ea0b68\">\n",
              "    <div class=\"colab-df-container\">\n",
              "      <div>\n",
              "<style scoped>\n",
              "    .dataframe tbody tr th:only-of-type {\n",
              "        vertical-align: middle;\n",
              "    }\n",
              "\n",
              "    .dataframe tbody tr th {\n",
              "        vertical-align: top;\n",
              "    }\n",
              "\n",
              "    .dataframe thead th {\n",
              "        text-align: right;\n",
              "    }\n",
              "</style>\n",
              "<table border=\"1\" class=\"dataframe\">\n",
              "  <thead>\n",
              "    <tr style=\"text-align: right;\">\n",
              "      <th></th>\n",
              "      <th>Unnamed: 0</th>\n",
              "      <th>score</th>\n",
              "      <th>title</th>\n",
              "      <th>user_country</th>\n",
              "      <th>user_name</th>\n",
              "      <th>is_verified</th>\n",
              "      <th>review_body</th>\n",
              "      <th>airline</th>\n",
              "      <th>seat</th>\n",
              "      <th>aircraft</th>\n",
              "      <th>layout</th>\n",
              "      <th>Unnamed: 0.1</th>\n",
              "      <th>Cabin Staff Service</th>\n",
              "      <th>Food &amp; Beverages</th>\n",
              "      <th>Ground Service</th>\n",
              "      <th>Recommended</th>\n",
              "      <th>Route</th>\n",
              "      <th>Seat Comfort</th>\n",
              "      <th>Seat Type</th>\n",
              "      <th>Type Of Traveller</th>\n",
              "      <th>Value For Money</th>\n",
              "      <th>Inflight Entertainment</th>\n",
              "      <th>Wifi &amp; Connectivity</th>\n",
              "      <th>link</th>\n",
              "    </tr>\n",
              "  </thead>\n",
              "  <tbody>\n",
              "    <tr>\n",
              "      <th>34387</th>\n",
              "      <td>34387</td>\n",
              "      <td>NaN</td>\n",
              "      <td>NaN</td>\n",
              "      <td>NaN</td>\n",
              "      <td>SeatGuru</td>\n",
              "      <td>NaN</td>\n",
              "      <td>This is a terrible aircraft. Upon entering the...</td>\n",
              "      <td>Westjet_</td>\n",
              "      <td>20B</td>\n",
              "      <td>Westjet_Bombardier_Q400</td>\n",
              "      <td>NaN</td>\n",
              "      <td>16746.0</td>\n",
              "      <td>NaN</td>\n",
              "      <td>NaN</td>\n",
              "      <td>NaN</td>\n",
              "      <td>NaN</td>\n",
              "      <td>NaN</td>\n",
              "      <td>NaN</td>\n",
              "      <td>NaN</td>\n",
              "      <td>NaN</td>\n",
              "      <td>NaN</td>\n",
              "      <td>NaN</td>\n",
              "      <td>NaN</td>\n",
              "      <td>https://www.seatguru.com//airlines/Westjet/Wes...</td>\n",
              "    </tr>\n",
              "    <tr>\n",
              "      <th>34388</th>\n",
              "      <td>34388</td>\n",
              "      <td>NaN</td>\n",
              "      <td>NaN</td>\n",
              "      <td>NaN</td>\n",
              "      <td>SeatGuru</td>\n",
              "      <td>NaN</td>\n",
              "      <td>While these seats may be at the front of the p...</td>\n",
              "      <td>Westjet_</td>\n",
              "      <td>1B</td>\n",
              "      <td>Westjet_Bombardier_Q400</td>\n",
              "      <td>NaN</td>\n",
              "      <td>16747.0</td>\n",
              "      <td>NaN</td>\n",
              "      <td>NaN</td>\n",
              "      <td>NaN</td>\n",
              "      <td>NaN</td>\n",
              "      <td>NaN</td>\n",
              "      <td>NaN</td>\n",
              "      <td>NaN</td>\n",
              "      <td>NaN</td>\n",
              "      <td>NaN</td>\n",
              "      <td>NaN</td>\n",
              "      <td>NaN</td>\n",
              "      <td>https://www.seatguru.com//airlines/Westjet/Wes...</td>\n",
              "    </tr>\n",
              "    <tr>\n",
              "      <th>34389</th>\n",
              "      <td>34389</td>\n",
              "      <td>NaN</td>\n",
              "      <td>NaN</td>\n",
              "      <td>NaN</td>\n",
              "      <td>SeatGuru</td>\n",
              "      <td>NaN</td>\n",
              "      <td>Rather comfy despite it being listed at 17 inc...</td>\n",
              "      <td>Xiamen_Airlines_</td>\n",
              "      <td>None</td>\n",
              "      <td>Xiamen_Airlines_Boeing_787-8</td>\n",
              "      <td>NaN</td>\n",
              "      <td>16748.0</td>\n",
              "      <td>NaN</td>\n",
              "      <td>NaN</td>\n",
              "      <td>NaN</td>\n",
              "      <td>NaN</td>\n",
              "      <td>NaN</td>\n",
              "      <td>NaN</td>\n",
              "      <td>NaN</td>\n",
              "      <td>NaN</td>\n",
              "      <td>NaN</td>\n",
              "      <td>NaN</td>\n",
              "      <td>NaN</td>\n",
              "      <td>https://www.seatguru.com//airlines/Xiamen_Airl...</td>\n",
              "    </tr>\n",
              "    <tr>\n",
              "      <th>34390</th>\n",
              "      <td>34390</td>\n",
              "      <td>NaN</td>\n",
              "      <td>NaN</td>\n",
              "      <td>NaN</td>\n",
              "      <td>SeatGuru</td>\n",
              "      <td>NaN</td>\n",
              "      <td>I was very satisfied with my flight. The Fligh...</td>\n",
              "      <td>Xiamen_Airlines_</td>\n",
              "      <td>1A</td>\n",
              "      <td>Xiamen_Airlines_Boeing_787-9</td>\n",
              "      <td>NaN</td>\n",
              "      <td>16749.0</td>\n",
              "      <td>NaN</td>\n",
              "      <td>NaN</td>\n",
              "      <td>NaN</td>\n",
              "      <td>NaN</td>\n",
              "      <td>NaN</td>\n",
              "      <td>NaN</td>\n",
              "      <td>NaN</td>\n",
              "      <td>NaN</td>\n",
              "      <td>NaN</td>\n",
              "      <td>NaN</td>\n",
              "      <td>NaN</td>\n",
              "      <td>https://www.seatguru.com//airlines/Xiamen_Airl...</td>\n",
              "    </tr>\n",
              "    <tr>\n",
              "      <th>34391</th>\n",
              "      <td>34391</td>\n",
              "      <td>NaN</td>\n",
              "      <td>NaN</td>\n",
              "      <td>NaN</td>\n",
              "      <td>SeatGuru</td>\n",
              "      <td>NaN</td>\n",
              "      <td>AMS-XIA in May 2018 (codeshare KLM-Xiamenair)....</td>\n",
              "      <td>Xiamen_Airlines_</td>\n",
              "      <td>14A</td>\n",
              "      <td>Xiamen_Airlines_Boeing_787-9</td>\n",
              "      <td>NaN</td>\n",
              "      <td>16750.0</td>\n",
              "      <td>NaN</td>\n",
              "      <td>NaN</td>\n",
              "      <td>NaN</td>\n",
              "      <td>NaN</td>\n",
              "      <td>NaN</td>\n",
              "      <td>NaN</td>\n",
              "      <td>NaN</td>\n",
              "      <td>NaN</td>\n",
              "      <td>NaN</td>\n",
              "      <td>NaN</td>\n",
              "      <td>NaN</td>\n",
              "      <td>https://www.seatguru.com//airlines/Xiamen_Airl...</td>\n",
              "    </tr>\n",
              "  </tbody>\n",
              "</table>\n",
              "</div>\n",
              "      <button class=\"colab-df-convert\" onclick=\"convertToInteractive('df-457d92e2-68e8-4e5a-b068-aea378ea0b68')\"\n",
              "              title=\"Convert this dataframe to an interactive table.\"\n",
              "              style=\"display:none;\">\n",
              "        \n",
              "  <svg xmlns=\"http://www.w3.org/2000/svg\" height=\"24px\"viewBox=\"0 0 24 24\"\n",
              "       width=\"24px\">\n",
              "    <path d=\"M0 0h24v24H0V0z\" fill=\"none\"/>\n",
              "    <path d=\"M18.56 5.44l.94 2.06.94-2.06 2.06-.94-2.06-.94-.94-2.06-.94 2.06-2.06.94zm-11 1L8.5 8.5l.94-2.06 2.06-.94-2.06-.94L8.5 2.5l-.94 2.06-2.06.94zm10 10l.94 2.06.94-2.06 2.06-.94-2.06-.94-.94-2.06-.94 2.06-2.06.94z\"/><path d=\"M17.41 7.96l-1.37-1.37c-.4-.4-.92-.59-1.43-.59-.52 0-1.04.2-1.43.59L10.3 9.45l-7.72 7.72c-.78.78-.78 2.05 0 2.83L4 21.41c.39.39.9.59 1.41.59.51 0 1.02-.2 1.41-.59l7.78-7.78 2.81-2.81c.8-.78.8-2.07 0-2.86zM5.41 20L4 18.59l7.72-7.72 1.47 1.35L5.41 20z\"/>\n",
              "  </svg>\n",
              "      </button>\n",
              "      \n",
              "  <style>\n",
              "    .colab-df-container {\n",
              "      display:flex;\n",
              "      flex-wrap:wrap;\n",
              "      gap: 12px;\n",
              "    }\n",
              "\n",
              "    .colab-df-convert {\n",
              "      background-color: #E8F0FE;\n",
              "      border: none;\n",
              "      border-radius: 50%;\n",
              "      cursor: pointer;\n",
              "      display: none;\n",
              "      fill: #1967D2;\n",
              "      height: 32px;\n",
              "      padding: 0 0 0 0;\n",
              "      width: 32px;\n",
              "    }\n",
              "\n",
              "    .colab-df-convert:hover {\n",
              "      background-color: #E2EBFA;\n",
              "      box-shadow: 0px 1px 2px rgba(60, 64, 67, 0.3), 0px 1px 3px 1px rgba(60, 64, 67, 0.15);\n",
              "      fill: #174EA6;\n",
              "    }\n",
              "\n",
              "    [theme=dark] .colab-df-convert {\n",
              "      background-color: #3B4455;\n",
              "      fill: #D2E3FC;\n",
              "    }\n",
              "\n",
              "    [theme=dark] .colab-df-convert:hover {\n",
              "      background-color: #434B5C;\n",
              "      box-shadow: 0px 1px 3px 1px rgba(0, 0, 0, 0.15);\n",
              "      filter: drop-shadow(0px 1px 2px rgba(0, 0, 0, 0.3));\n",
              "      fill: #FFFFFF;\n",
              "    }\n",
              "  </style>\n",
              "\n",
              "      <script>\n",
              "        const buttonEl =\n",
              "          document.querySelector('#df-457d92e2-68e8-4e5a-b068-aea378ea0b68 button.colab-df-convert');\n",
              "        buttonEl.style.display =\n",
              "          google.colab.kernel.accessAllowed ? 'block' : 'none';\n",
              "\n",
              "        async function convertToInteractive(key) {\n",
              "          const element = document.querySelector('#df-457d92e2-68e8-4e5a-b068-aea378ea0b68');\n",
              "          const dataTable =\n",
              "            await google.colab.kernel.invokeFunction('convertToInteractive',\n",
              "                                                     [key], {});\n",
              "          if (!dataTable) return;\n",
              "\n",
              "          const docLinkHtml = 'Like what you see? Visit the ' +\n",
              "            '<a target=\"_blank\" href=https://colab.research.google.com/notebooks/data_table.ipynb>data table notebook</a>'\n",
              "            + ' to learn more about interactive tables.';\n",
              "          element.innerHTML = '';\n",
              "          dataTable['output_type'] = 'display_data';\n",
              "          await google.colab.output.renderOutput(dataTable, element);\n",
              "          const docLink = document.createElement('div');\n",
              "          docLink.innerHTML = docLinkHtml;\n",
              "          element.appendChild(docLink);\n",
              "        }\n",
              "      </script>\n",
              "    </div>\n",
              "  </div>\n",
              "  "
            ],
            "text/plain": [
              "       Unnamed: 0  ...                                               link\n",
              "34387       34387  ...  https://www.seatguru.com//airlines/Westjet/Wes...\n",
              "34388       34388  ...  https://www.seatguru.com//airlines/Westjet/Wes...\n",
              "34389       34389  ...  https://www.seatguru.com//airlines/Xiamen_Airl...\n",
              "34390       34390  ...  https://www.seatguru.com//airlines/Xiamen_Airl...\n",
              "34391       34391  ...  https://www.seatguru.com//airlines/Xiamen_Airl...\n",
              "\n",
              "[5 rows x 24 columns]"
            ]
          },
          "metadata": {},
          "execution_count": 203
        }
      ]
    },
    {
      "cell_type": "markdown",
      "source": [
        "## Pre-Processing"
      ],
      "metadata": {
        "id": "uTMi0UNSjSoe"
      }
    },
    {
      "cell_type": "markdown",
      "source": [
        "### Full Reviews"
      ],
      "metadata": {
        "id": "oGVRLQQ3jSoe"
      }
    },
    {
      "cell_type": "code",
      "source": [
        "# add title to review_body\n",
        "c_w_t = []\n",
        "for i, row in enumerate(df_full['title']):\n",
        "  if row != np.nan:\n",
        "    c_w_t.append(str(row) + str(df_full['review_body'].iloc[i]))\n",
        "  else:\n",
        "    c_w_t.append(df_full['review_body'].iloc[i])"
      ],
      "metadata": {
        "id": "vuLJ4_XbjSoe"
      },
      "execution_count": 207,
      "outputs": []
    },
    {
      "cell_type": "code",
      "source": [
        "df_full['full_review'] = c_w_t"
      ],
      "metadata": {
        "id": "2zRXc7gboq6R"
      },
      "execution_count": 210,
      "outputs": []
    },
    {
      "cell_type": "code",
      "source": [
        "# new df with only relevant inputs for TF IDF + Classifier (might experiment with other variables later)\n",
        "df_slim = df_full[['score', 'full_review']]"
      ],
      "metadata": {
        "id": "gY9MGXe_jSof"
      },
      "execution_count": 212,
      "outputs": []
    },
    {
      "cell_type": "markdown",
      "source": [
        "### Labeling by score"
      ],
      "metadata": {
        "id": "mU4T8LuhjSof"
      }
    },
    {
      "cell_type": "code",
      "source": [
        "# create binary label of reviews from scores giving on review\n",
        "'''\n",
        "If score is 7-10 is a good rating\n",
        "6 is neutral\n",
        "1-5 is bad\n",
        "\n",
        "If score is 7-10 then 1 (labeled good)\n",
        "if score is 6 these rows will be ignored\n",
        "if 1-5 then 0 (labeled bad)\n",
        "'''\n",
        "\n",
        "# filter our reviews with 6\n",
        "df_slimmer = df_slim[df_slim['score'] != 6]\n",
        "\n",
        "# label reviews\n",
        "labels = []\n",
        "for row in df_slimmer['score']:\n",
        "    if (row <= 5):    labels.append(0) # bad reviews\n",
        "    else:   labels.append(1) # good reviews\n",
        "\n",
        "df_slimmer['label'] = labels\n"
      ],
      "metadata": {
        "id": "eR6JqlrajSog"
      },
      "execution_count": 213,
      "outputs": []
    },
    {
      "cell_type": "markdown",
      "source": [
        "### Lemmatization"
      ],
      "metadata": {
        "id": "jTcZLarzjSoh"
      }
    },
    {
      "cell_type": "code",
      "source": [
        "# lower case\n",
        "df_slimmer['lower_case'] = df_slimmer['full_review'].apply(lambda x: ' '.join(x.lower() for x in str(x).split()))\n",
        "# remove possible HTML tags and any URLS\n",
        "from bs4 import BeautifulSoup\n",
        "df_slimmer['pre_process']=df_slimmer['lower_case'].apply(lambda x: BeautifulSoup(x).get_text())\n",
        "import re\n",
        "df_slimmer['pre_process']=df_slimmer['pre_process'].apply(lambda x: re.sub(r\"http\\S+\", '', x))\n",
        "# contractions\n",
        "def contractions(s):\n",
        " s = re.sub(r\"won’t\", \"will not\",s)\n",
        " s = re.sub(r\"-\", \" to \",s) # for things like CDG-ATL\n",
        " s = re.sub(r\"would’t\", \"would not\",s)\n",
        " s = re.sub(r\"nan\", \"\",s)\n",
        " s = re.sub(r\"could’t\", \"could not\",s)\n",
        " s = re.sub(r\"cannot\", \"can not\",s)\n",
        " s = re.sub(r\"\\’d\", \" would\",s)\n",
        " s = re.sub(r\"can\\’t\", \"can not\",s)\n",
        " s = re.sub(r\"n\\’t\", \" not\", s)\n",
        " s= re.sub(r\"\\’re\", \" are\", s)\n",
        " s = re.sub(r\"\\’s\", \" is\", s)\n",
        " s = re.sub(r\"\\’ll\", \" will\", s)\n",
        " s = re.sub(r\"\\’t\", \" not\", s)\n",
        " s = re.sub(r\"\\’ve\", \" have\", s)\n",
        " s = re.sub(r\"\\’m\", \" am\", s)\n",
        " return s\n",
        "\n",
        "# replace contractions\n",
        "df_slimmer['pre_process'] = df_slimmer['pre_process'].apply(lambda x:contractions(x))\n",
        "# remove non-alphabet characters\n",
        "nltk.download('punkt')\n",
        "df_slimmer['pre_process'] = df_slimmer['pre_process'].apply(lambda x: \" \".join([re.sub(\"[^A-Za-z]+\",\"\", x) for x in nltk.word_tokenize(x)]))\n",
        "df_slimmer = df_slimmer[['score', 'label', 'full_review', 'pre_process']]\n",
        "# remove extra spaces\n",
        "df_slimmer['pre_process'] = df_slimmer['pre_process'].apply(lambda x: re.sub(' +', \" \", x))\n",
        "# remove stop words\n",
        "nltk.download('stopwords')\n",
        "from nltk.corpus import stopwords\n",
        "\n",
        "stop = stopwords.words(\"english\")\n",
        "df_slimmer['pre_process'] = df_slimmer['pre_process'].apply(lambda x: \" \".join([x for x in x.split() if x not in stop]))\n",
        "# lemmatization\n",
        "nltk.download('wordnet')\n",
        "from nltk.stem import WordNetLemmatizer\n",
        "\n",
        "lemmatizer = WordNetLemmatizer()\n",
        "df_slimmer['pre_process'] = df_slimmer['pre_process'].apply(lambda x: \" \".join([lemmatizer.lemmatize(w) for w in nltk.word_tokenize(x)]))\n",
        "# pass over ready df\n",
        "df_full_pp = df_slimmer[['score', 'label', 'pre_process']]"
      ],
      "metadata": {
        "colab": {
          "base_uri": "https://localhost:8080/"
        },
        "id": "Xqgsb305jSoh",
        "outputId": "16b172f3-8a69-445f-b092-dda0efded1ab"
      },
      "execution_count": 215,
      "outputs": [
        {
          "output_type": "stream",
          "name": "stdout",
          "text": [
            "[nltk_data] Downloading package punkt to /root/nltk_data...\n",
            "[nltk_data]   Package punkt is already up-to-date!\n",
            "[nltk_data] Downloading package stopwords to /root/nltk_data...\n",
            "[nltk_data]   Package stopwords is already up-to-date!\n",
            "[nltk_data] Downloading package wordnet to /root/nltk_data...\n",
            "[nltk_data]   Package wordnet is already up-to-date!\n"
          ]
        }
      ]
    },
    {
      "cell_type": "code",
      "source": [
        "# renaming columns to not get it twisted \n",
        "df_full_pp = df_full_pp.rename(columns={'pre_process': 'lemmatized'})"
      ],
      "metadata": {
        "id": "uPDnOIflkFCv"
      },
      "execution_count": 216,
      "outputs": []
    },
    {
      "cell_type": "markdown",
      "source": [
        "### TF IDF of all comments"
      ],
      "metadata": {
        "id": "59Y-eaPCrWCv"
      }
    },
    {
      "cell_type": "code",
      "source": [
        "# TD IDF vectorizer\n",
        "print(\"TFIDF Vectorizer……\")\n",
        "\n",
        "from sklearn.feature_extraction.text import TfidfVectorizer\n",
        "\n",
        "# using previous vectorizer\n",
        "tf_full = vectorizer.transform(df_full_pp['lemmatized'])\n",
        "print(\" done!\")"
      ],
      "metadata": {
        "colab": {
          "base_uri": "https://localhost:8080/"
        },
        "outputId": "eb3e9c11-469a-4de2-f0e0-858863d258d1",
        "id": "KHpxH6WJkRXS"
      },
      "execution_count": 218,
      "outputs": [
        {
          "output_type": "stream",
          "name": "stdout",
          "text": [
            "TFIDF Vectorizer……\n",
            " done!\n"
          ]
        }
      ]
    },
    {
      "cell_type": "markdown",
      "source": [
        "### Predict Labels with best classifier (SVM)"
      ],
      "metadata": {
        "id": "ZFmJfb3wrmZb"
      }
    },
    {
      "cell_type": "code",
      "source": [
        "# predict labels for all data\n",
        "pred_full = svm.predict(tf_full)"
      ],
      "metadata": {
        "id": "XJLMDcIAkl4Y"
      },
      "execution_count": 219,
      "outputs": []
    },
    {
      "cell_type": "code",
      "source": [
        "len(pred_full)"
      ],
      "metadata": {
        "colab": {
          "base_uri": "https://localhost:8080/"
        },
        "id": "4dy_AJ4ZljQT",
        "outputId": "de5a6ea1-0104-4bf2-e61d-91996c24afd8"
      },
      "execution_count": 220,
      "outputs": [
        {
          "output_type": "execute_result",
          "data": {
            "text/plain": [
              "33995"
            ]
          },
          "metadata": {},
          "execution_count": 220
        }
      ]
    },
    {
      "cell_type": "markdown",
      "source": [
        "### Add Labels to DF"
      ],
      "metadata": {
        "id": "LSq6VJRbrqPh"
      }
    },
    {
      "cell_type": "code",
      "source": [
        "# add predictions to dataset\n",
        "df_full_pp['predicted_labels'] = pred_full"
      ],
      "metadata": {
        "id": "P7W1kVFFlZrx"
      },
      "execution_count": 221,
      "outputs": []
    },
    {
      "cell_type": "code",
      "source": [
        "df_full_pp['original_review'] = df_slimmer['full_review']"
      ],
      "metadata": {
        "id": "sLz4GcbIlsrX"
      },
      "execution_count": 223,
      "outputs": []
    },
    {
      "cell_type": "code",
      "source": [
        "df_with_clf_predictions = df_full_pp"
      ],
      "metadata": {
        "id": "Iz6KzIKMqnZh"
      },
      "execution_count": 224,
      "outputs": []
    },
    {
      "cell_type": "code",
      "source": [
        "df_with_clf_predictions"
      ],
      "metadata": {
        "colab": {
          "base_uri": "https://localhost:8080/",
          "height": 832
        },
        "id": "xrFgdEMoqrTS",
        "outputId": "921ef684-43a8-443b-ca87-eef6f88e110a"
      },
      "execution_count": 226,
      "outputs": [
        {
          "output_type": "execute_result",
          "data": {
            "text/html": [
              "\n",
              "  <div id=\"df-f02079a6-ea2e-4a38-87b4-12232fe6d241\">\n",
              "    <div class=\"colab-df-container\">\n",
              "      <div>\n",
              "<style scoped>\n",
              "    .dataframe tbody tr th:only-of-type {\n",
              "        vertical-align: middle;\n",
              "    }\n",
              "\n",
              "    .dataframe tbody tr th {\n",
              "        vertical-align: top;\n",
              "    }\n",
              "\n",
              "    .dataframe thead th {\n",
              "        text-align: right;\n",
              "    }\n",
              "</style>\n",
              "<table border=\"1\" class=\"dataframe\">\n",
              "  <thead>\n",
              "    <tr style=\"text-align: right;\">\n",
              "      <th></th>\n",
              "      <th>score</th>\n",
              "      <th>label</th>\n",
              "      <th>lemmatized</th>\n",
              "      <th>predicted_labels</th>\n",
              "      <th>original_review</th>\n",
              "    </tr>\n",
              "  </thead>\n",
              "  <tbody>\n",
              "    <tr>\n",
              "      <th>0</th>\n",
              "      <td>7.0</td>\n",
              "      <td>1</td>\n",
              "      <td>trip pretty good flight dulles paris great fli...</td>\n",
              "      <td>1</td>\n",
              "      <td>\"my trip was pretty good.\"My flight from Dulle...</td>\n",
              "    </tr>\n",
              "    <tr>\n",
              "      <th>1</th>\n",
              "      <td>1.0</td>\n",
              "      <td>0</td>\n",
              "      <td>baggage nt make went month nice arrived nice b...</td>\n",
              "      <td>0</td>\n",
              "      <td>\"my baggage didn't make it\" I went for 2 month...</td>\n",
              "    </tr>\n",
              "    <tr>\n",
              "      <th>2</th>\n",
              "      <td>3.0</td>\n",
              "      <td>0</td>\n",
              "      <td>air france customer reviewyesterday jan flew c...</td>\n",
              "      <td>0</td>\n",
              "      <td>Air France customer reviewYesterday Jan 25, we...</td>\n",
              "    </tr>\n",
              "    <tr>\n",
              "      <th>3</th>\n",
              "      <td>8.0</td>\n",
              "      <td>1</td>\n",
              "      <td>great alternative fly across atlantic first me...</td>\n",
              "      <td>1</td>\n",
              "      <td>\"great alternative to fly across the Atlantic\"...</td>\n",
              "    </tr>\n",
              "    <tr>\n",
              "      <th>4</th>\n",
              "      <td>8.0</td>\n",
              "      <td>1</td>\n",
              "      <td>pleasurable experience bod cdg atl major issue...</td>\n",
              "      <td>1</td>\n",
              "      <td>\"A pleasurable experience!\" BOD-CDG-ATL: Was h...</td>\n",
              "    </tr>\n",
              "    <tr>\n",
              "      <th>...</th>\n",
              "      <td>...</td>\n",
              "      <td>...</td>\n",
              "      <td>...</td>\n",
              "      <td>...</td>\n",
              "      <td>...</td>\n",
              "    </tr>\n",
              "    <tr>\n",
              "      <th>34387</th>\n",
              "      <td>NaN</td>\n",
              "      <td>1</td>\n",
              "      <td>terrible aircraft upon entering aircraft bange...</td>\n",
              "      <td>0</td>\n",
              "      <td>nanThis is a terrible aircraft. Upon entering ...</td>\n",
              "    </tr>\n",
              "    <tr>\n",
              "      <th>34388</th>\n",
              "      <td>NaN</td>\n",
              "      <td>1</td>\n",
              "      <td>seat may front plane get get quite chilly righ...</td>\n",
              "      <td>1</td>\n",
              "      <td>nanWhile these seats may be at the front of th...</td>\n",
              "    </tr>\n",
              "    <tr>\n",
              "      <th>34389</th>\n",
              "      <td>NaN</td>\n",
              "      <td>1</td>\n",
              "      <td>rather comfy despite listed inch wide legroom ...</td>\n",
              "      <td>1</td>\n",
              "      <td>nanRather comfy despite it being listed at 17 ...</td>\n",
              "    </tr>\n",
              "    <tr>\n",
              "      <th>34390</th>\n",
              "      <td>NaN</td>\n",
              "      <td>1</td>\n",
              "      <td>satisfied flight flight attendant would every ...</td>\n",
              "      <td>1</td>\n",
              "      <td>nanI was very satisfied with my flight. The Fl...</td>\n",
              "    </tr>\n",
              "    <tr>\n",
              "      <th>34391</th>\n",
              "      <td>NaN</td>\n",
              "      <td>1</td>\n",
              "      <td>am xia may codeshare klm xiamenair one best bu...</td>\n",
              "      <td>0</td>\n",
              "      <td>nanAMS-XIA in May 2018 (codeshare KLM-Xiamenai...</td>\n",
              "    </tr>\n",
              "  </tbody>\n",
              "</table>\n",
              "<p>33995 rows × 5 columns</p>\n",
              "</div>\n",
              "      <button class=\"colab-df-convert\" onclick=\"convertToInteractive('df-f02079a6-ea2e-4a38-87b4-12232fe6d241')\"\n",
              "              title=\"Convert this dataframe to an interactive table.\"\n",
              "              style=\"display:none;\">\n",
              "        \n",
              "  <svg xmlns=\"http://www.w3.org/2000/svg\" height=\"24px\"viewBox=\"0 0 24 24\"\n",
              "       width=\"24px\">\n",
              "    <path d=\"M0 0h24v24H0V0z\" fill=\"none\"/>\n",
              "    <path d=\"M18.56 5.44l.94 2.06.94-2.06 2.06-.94-2.06-.94-.94-2.06-.94 2.06-2.06.94zm-11 1L8.5 8.5l.94-2.06 2.06-.94-2.06-.94L8.5 2.5l-.94 2.06-2.06.94zm10 10l.94 2.06.94-2.06 2.06-.94-2.06-.94-.94-2.06-.94 2.06-2.06.94z\"/><path d=\"M17.41 7.96l-1.37-1.37c-.4-.4-.92-.59-1.43-.59-.52 0-1.04.2-1.43.59L10.3 9.45l-7.72 7.72c-.78.78-.78 2.05 0 2.83L4 21.41c.39.39.9.59 1.41.59.51 0 1.02-.2 1.41-.59l7.78-7.78 2.81-2.81c.8-.78.8-2.07 0-2.86zM5.41 20L4 18.59l7.72-7.72 1.47 1.35L5.41 20z\"/>\n",
              "  </svg>\n",
              "      </button>\n",
              "      \n",
              "  <style>\n",
              "    .colab-df-container {\n",
              "      display:flex;\n",
              "      flex-wrap:wrap;\n",
              "      gap: 12px;\n",
              "    }\n",
              "\n",
              "    .colab-df-convert {\n",
              "      background-color: #E8F0FE;\n",
              "      border: none;\n",
              "      border-radius: 50%;\n",
              "      cursor: pointer;\n",
              "      display: none;\n",
              "      fill: #1967D2;\n",
              "      height: 32px;\n",
              "      padding: 0 0 0 0;\n",
              "      width: 32px;\n",
              "    }\n",
              "\n",
              "    .colab-df-convert:hover {\n",
              "      background-color: #E2EBFA;\n",
              "      box-shadow: 0px 1px 2px rgba(60, 64, 67, 0.3), 0px 1px 3px 1px rgba(60, 64, 67, 0.15);\n",
              "      fill: #174EA6;\n",
              "    }\n",
              "\n",
              "    [theme=dark] .colab-df-convert {\n",
              "      background-color: #3B4455;\n",
              "      fill: #D2E3FC;\n",
              "    }\n",
              "\n",
              "    [theme=dark] .colab-df-convert:hover {\n",
              "      background-color: #434B5C;\n",
              "      box-shadow: 0px 1px 3px 1px rgba(0, 0, 0, 0.15);\n",
              "      filter: drop-shadow(0px 1px 2px rgba(0, 0, 0, 0.3));\n",
              "      fill: #FFFFFF;\n",
              "    }\n",
              "  </style>\n",
              "\n",
              "      <script>\n",
              "        const buttonEl =\n",
              "          document.querySelector('#df-f02079a6-ea2e-4a38-87b4-12232fe6d241 button.colab-df-convert');\n",
              "        buttonEl.style.display =\n",
              "          google.colab.kernel.accessAllowed ? 'block' : 'none';\n",
              "\n",
              "        async function convertToInteractive(key) {\n",
              "          const element = document.querySelector('#df-f02079a6-ea2e-4a38-87b4-12232fe6d241');\n",
              "          const dataTable =\n",
              "            await google.colab.kernel.invokeFunction('convertToInteractive',\n",
              "                                                     [key], {});\n",
              "          if (!dataTable) return;\n",
              "\n",
              "          const docLinkHtml = 'Like what you see? Visit the ' +\n",
              "            '<a target=\"_blank\" href=https://colab.research.google.com/notebooks/data_table.ipynb>data table notebook</a>'\n",
              "            + ' to learn more about interactive tables.';\n",
              "          element.innerHTML = '';\n",
              "          dataTable['output_type'] = 'display_data';\n",
              "          await google.colab.output.renderOutput(dataTable, element);\n",
              "          const docLink = document.createElement('div');\n",
              "          docLink.innerHTML = docLinkHtml;\n",
              "          element.appendChild(docLink);\n",
              "        }\n",
              "      </script>\n",
              "    </div>\n",
              "  </div>\n",
              "  "
            ],
            "text/plain": [
              "       score  ...                                    original_review\n",
              "0        7.0  ...  \"my trip was pretty good.\"My flight from Dulle...\n",
              "1        1.0  ...  \"my baggage didn't make it\" I went for 2 month...\n",
              "2        3.0  ...  Air France customer reviewYesterday Jan 25, we...\n",
              "3        8.0  ...  \"great alternative to fly across the Atlantic\"...\n",
              "4        8.0  ...  \"A pleasurable experience!\" BOD-CDG-ATL: Was h...\n",
              "...      ...  ...                                                ...\n",
              "34387    NaN  ...  nanThis is a terrible aircraft. Upon entering ...\n",
              "34388    NaN  ...  nanWhile these seats may be at the front of th...\n",
              "34389    NaN  ...  nanRather comfy despite it being listed at 17 ...\n",
              "34390    NaN  ...  nanI was very satisfied with my flight. The Fl...\n",
              "34391    NaN  ...  nanAMS-XIA in May 2018 (codeshare KLM-Xiamenai...\n",
              "\n",
              "[33995 rows x 5 columns]"
            ]
          },
          "metadata": {},
          "execution_count": 226
        }
      ]
    },
    {
      "cell_type": "markdown",
      "source": [
        "### Save DF"
      ],
      "metadata": {
        "id": "GVPKwe2prsi0"
      }
    },
    {
      "cell_type": "code",
      "source": [
        "# Save df as csv\n",
        "df_with_clf_predictions.to_csv('df_with_clf_predictions.csv')"
      ],
      "metadata": {
        "id": "BVpBwyzDrEvn"
      },
      "execution_count": 229,
      "outputs": []
    }
  ]
}